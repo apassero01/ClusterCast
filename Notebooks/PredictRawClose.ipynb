{
 "cells": [
  {
   "cell_type": "code",
   "execution_count": null,
   "metadata": {},
   "outputs": [],
   "source": [
    "import os\n",
    "os.environ['DJANGO_SETTINGS_MODULE'] = 'ClusterCast.settings'\n",
    "import test_utils\n",
    "import django\n",
    "django.setup()\n",
    "import sys\n",
    "sys.path.append(\"/home/ajp031/StockDeepLearning/ClusterCast/ClusterCast\")\n",
    "from asgiref.sync import sync_to_async\n",
    "from importlib import reload\n",
    "import ClusterPipeline.models.ClusterProcessing as cp\n",
    "import ClusterPipeline.models.SequencePreprocessing as sp\n",
    "import ClusterPipeline.models.TSeriesPreproccesing as tsp\n",
    "from copy import deepcopy\n",
    "import numpy as np\n",
    "from tensorflow.keras.backend import clear_session\n",
    "import random\n",
    "from tensorflow.keras.optimizers import Adam\n",
    "import paper_utils\n",
    "import tensorflow as tf\n",
    "import seaborn as sns"
   ]
  },
  {
   "cell_type": "code",
   "execution_count": null,
   "metadata": {},
   "outputs": [],
   "source": [
    "reload(tsp)"
   ]
  },
  {
   "cell_type": "code",
   "execution_count": null,
   "metadata": {},
   "outputs": [],
   "source": [
    "tickers = ['aapl']\n",
    "start_date = '2007-01-01'\n",
    "end_date = '2024-01-01'\n",
    "steps = 50\n",
    "cluster_features = []\n",
    "target_features = ['close+{}_target'.format(i) for i in range(1, 16) ]\n",
    "interval = '1d'"
   ]
  },
  {
   "cell_type": "code",
   "execution_count": 121,
   "metadata": {},
   "outputs": [],
   "source": [
    "# training_features = ['open', 'high', 'low', 'close', 'Vix', 'ema10', 'ema20','ema50','ema100']\n",
    "training_features = ['close']"
   ]
  },
  {
   "cell_type": "code",
   "execution_count": null,
   "metadata": {},
   "outputs": [],
   "source": [
    "scaling_dict = {\n",
    "    \"price_vars\": sp.ScalingMethod.UNSCALED,\n",
    "    \"trend_vars\": sp.ScalingMethod.UNSCALED,\n",
    "    \"pctChg_vars\": sp.ScalingMethod.STANDARD,\n",
    "    \"rolling_vars\": sp.ScalingMethod.STANDARD,\n",
    "    \"target_vars\": sp.ScalingMethod.UNSCALED,\n",
    "    \"lag_feature_vars\": sp.ScalingMethod.STANDARD,\n",
    "    \"momentum_vars\": sp.ScalingMethod.STANDARD,\n",
    "}"
   ]
  },
  {
   "cell_type": "code",
   "execution_count": null,
   "metadata": {},
   "outputs": [],
   "source": [
    "group_params = cp.StockClusterGroupParams(\n",
    "    tickers=tickers,\n",
    "    start_date=start_date,\n",
    "    end_date=end_date,\n",
    "    n_steps=steps,\n",
    "    cluster_features=cluster_features,\n",
    "    target_cols=target_features,\n",
    "    interval=interval,\n",
    "    training_features=training_features,\n",
    ")"
   ]
  },
  {
   "cell_type": "code",
   "execution_count": null,
   "metadata": {},
   "outputs": [],
   "source": [
    "group_params.set_scaling_dict(scaling_dict)\n",
    "group_params.initialize() "
   ]
  },
  {
   "cell_type": "code",
   "execution_count": null,
   "metadata": {},
   "outputs": [],
   "source": [
    "data_sets = []\n",
    "for ticker in tickers:\n",
    "    data_set = tsp.StockDataSet(group_params, ticker)\n",
    "    data_set.preprocess_pipeline(to_train = True)\n",
    "    data_sets.append(data_set)\n",
    "\n",
    "group_params = data_sets[0].group_params\n",
    "\n",
    "group_params.data_sets = data_sets    \n"
   ]
  },
  {
   "cell_type": "code",
   "execution_count": null,
   "metadata": {},
   "outputs": [],
   "source": [
    "# data_sets[0].training_df[training_features] = np.log(data_sets[0].training_df[training_features])\n",
    "# data_sets[0].training_df[target_features] = np.log(data_sets[0].training_df[target_features])\n",
    "# data_sets[0].test_df[training_features] = np.log(data_sets[0].test_df[training_features])\n",
    "# data_sets[0].test_df[target_features] = np.log(data_sets[0].test_df[target_features])"
   ]
  },
  {
   "cell_type": "code",
   "execution_count": null,
   "metadata": {},
   "outputs": [],
   "source": [
    "data_sets[0].training_df[target_features].head()"
   ]
  },
  {
   "cell_type": "markdown",
   "metadata": {},
   "source": []
  },
  {
   "cell_type": "code",
   "execution_count": null,
   "metadata": {},
   "outputs": [],
   "source": [
    "sns.lineplot(data_sets[0].training_df['close+1_target'])\n",
    "# sns.lineplot(data_sets[0].training_df['ema200'])\n",
    "sns.lineplot(data_sets[0].training_df['close'])"
   ]
  },
  {
   "cell_type": "code",
   "execution_count": null,
   "metadata": {},
   "outputs": [],
   "source": [
    "sequence_set = sp.StockSequenceSet(group_params)\n",
    "sequence_set.preprocess_pipeline(add_cuma_pctChg_features = False)"
   ]
  },
  {
   "cell_type": "code",
   "execution_count": null,
   "metadata": {},
   "outputs": [],
   "source": [
    "training_seq_elements = group_params.train_seq_elements\n",
    "test_seq_elements = group_params.test_seq_elements"
   ]
  },
  {
   "cell_type": "code",
   "execution_count": null,
   "metadata": {},
   "outputs": [],
   "source": [
    "X_train, y_train = sp.SequenceElement.create_array(training_seq_elements)\n",
    "X_test, y_test = sp.SequenceElement.create_array(test_seq_elements)"
   ]
  },
  {
   "cell_type": "code",
   "execution_count": null,
   "metadata": {},
   "outputs": [],
   "source": [
    "print(X_train.shape, y_train.shape)\n",
    "print(X_test.shape, y_test.shape)"
   ]
  },
  {
   "cell_type": "code",
   "execution_count": null,
   "metadata": {},
   "outputs": [],
   "source": [
    "print(X_train[-1, :, -1])"
   ]
  },
  {
   "cell_type": "code",
   "execution_count": null,
   "metadata": {},
   "outputs": [],
   "source": [
    "X_feature_dict = group_params.X_feature_dict\n",
    "y_feature_dict = group_params.y_feature_dict"
   ]
  },
  {
   "cell_type": "code",
   "execution_count": 122,
   "metadata": {},
   "outputs": [],
   "source": [
    "X_train_filtered = paper_utils.filter_by_features(X_train,training_features, X_feature_dict)\n",
    "X_test_filtered = paper_utils.filter_by_features(X_test,training_features, X_feature_dict)\n",
    "y_train_filtered = paper_utils.filter_y_by_features(y_train,target_features, y_feature_dict)\n",
    "y_test_filtered = paper_utils.filter_y_by_features(y_test,target_features, y_feature_dict)"
   ]
  },
  {
   "cell_type": "code",
   "execution_count": 123,
   "metadata": {},
   "outputs": [],
   "source": [
    "y_train_filtered = np.expand_dims(y_train_filtered, axis=-1)\n",
    "y_test_filtered = np.expand_dims(y_test_filtered, axis=-1)"
   ]
  },
  {
   "cell_type": "code",
   "execution_count": 124,
   "metadata": {},
   "outputs": [],
   "source": [
    "X_test_close = paper_utils.filter_by_features(X_test,['close'], X_feature_dict)"
   ]
  },
  {
   "cell_type": "code",
   "execution_count": 125,
   "metadata": {},
   "outputs": [],
   "source": [
    "total_cluster = paper_utils.Cluster(-1, X_train_filtered, y_train_filtered, X_test_filtered, y_test_filtered, training_seq_elements, test_seq_elements)"
   ]
  },
  {
   "cell_type": "code",
   "execution_count": 126,
   "metadata": {},
   "outputs": [
    {
     "data": {
      "text/plain": [
       "<module 'test_utils_models' from '/home/ajp031/ClusterCastProd/Notebooks/test_utils_models.py'>"
      ]
     },
     "execution_count": 126,
     "metadata": {},
     "output_type": "execute_result"
    }
   ],
   "source": [
    "import test_utils_models\n",
    "reload(test_utils_models)"
   ]
  },
  {
   "cell_type": "code",
   "execution_count": 127,
   "metadata": {},
   "outputs": [],
   "source": [
    "baseline_model = test_utils_models.CustomSeq2SeqModel(len(target_features), X_train_filtered.shape[1], X_train_filtered.shape[2])"
   ]
  },
  {
   "cell_type": "code",
   "execution_count": 159,
   "metadata": {},
   "outputs": [],
   "source": [
    "lr = 0.1\n",
    "batch_size = 64\n",
    "epochs = 250\n",
    "loss = 'mse'\n",
    "baseline_model.compile(optimizer = Adam(learning_rate=lr), loss = loss)\n"
   ]
  },
  {
   "cell_type": "code",
   "execution_count": 160,
   "metadata": {},
   "outputs": [
    {
     "name": "stdout",
     "output_type": "stream",
     "text": [
      "(3373, 50, 1)\n",
      "(3373, 15, 1)\n",
      "(798, 50, 1)\n",
      "(798, 15, 1)\n"
     ]
    }
   ],
   "source": [
    "print(X_train_filtered.shape)\n",
    "print(y_train_filtered.shape)\n",
    "print(X_test_filtered.shape)\n",
    "print(y_test_filtered.shape)"
   ]
  },
  {
   "cell_type": "code",
   "execution_count": 161,
   "metadata": {},
   "outputs": [],
   "source": [
    "# print(X_train_filtered[-1])\n",
    "# print(y_train_filtered[-1])"
   ]
  },
  {
   "cell_type": "code",
   "execution_count": 162,
   "metadata": {},
   "outputs": [
    {
     "name": "stdout",
     "output_type": "stream",
     "text": [
      "(3373, 50, 1) (3373, 15, 1)\n",
      "Epoch 1/250\n",
      "(None, 50, 63)\n"
     ]
    },
    {
     "name": "stderr",
     "output_type": "stream",
     "text": [
      "2024-07-22 20:19:14.100701: I tensorflow/core/common_runtime/executor.cc:1197] [/device:CPU:0] (DEBUG INFO) Executor start aborting (this does not indicate an error and you can ignore this message): INVALID_ARGUMENT: You must feed a value for placeholder tensor 'gradients/split_2_grad/concat/split_2/split_dim' with dtype int32\n",
      "\t [[{{node gradients/split_2_grad/concat/split_2/split_dim}}]]\n",
      "2024-07-22 20:19:14.102874: I tensorflow/core/common_runtime/executor.cc:1197] [/device:CPU:0] (DEBUG INFO) Executor start aborting (this does not indicate an error and you can ignore this message): INVALID_ARGUMENT: You must feed a value for placeholder tensor 'gradients/split_grad/concat/split/split_dim' with dtype int32\n",
      "\t [[{{node gradients/split_grad/concat/split/split_dim}}]]\n",
      "2024-07-22 20:19:14.104451: I tensorflow/core/common_runtime/executor.cc:1197] [/device:CPU:0] (DEBUG INFO) Executor start aborting (this does not indicate an error and you can ignore this message): INVALID_ARGUMENT: You must feed a value for placeholder tensor 'gradients/split_1_grad/concat/split_1/split_dim' with dtype int32\n",
      "\t [[{{node gradients/split_1_grad/concat/split_1/split_dim}}]]\n"
     ]
    },
    {
     "name": "stdout",
     "output_type": "stream",
     "text": [
      "decoder outputs\n",
      "(None, 15, 1)\n",
      "(None, 50, 63)\n"
     ]
    },
    {
     "name": "stderr",
     "output_type": "stream",
     "text": [
      "2024-07-22 20:19:18.420850: I tensorflow/core/common_runtime/executor.cc:1197] [/device:CPU:0] (DEBUG INFO) Executor start aborting (this does not indicate an error and you can ignore this message): INVALID_ARGUMENT: You must feed a value for placeholder tensor 'gradients/split_2_grad/concat/split_2/split_dim' with dtype int32\n",
      "\t [[{{node gradients/split_2_grad/concat/split_2/split_dim}}]]\n",
      "2024-07-22 20:19:18.423179: I tensorflow/core/common_runtime/executor.cc:1197] [/device:CPU:0] (DEBUG INFO) Executor start aborting (this does not indicate an error and you can ignore this message): INVALID_ARGUMENT: You must feed a value for placeholder tensor 'gradients/split_grad/concat/split/split_dim' with dtype int32\n",
      "\t [[{{node gradients/split_grad/concat/split/split_dim}}]]\n",
      "2024-07-22 20:19:18.424718: I tensorflow/core/common_runtime/executor.cc:1197] [/device:CPU:0] (DEBUG INFO) Executor start aborting (this does not indicate an error and you can ignore this message): INVALID_ARGUMENT: You must feed a value for placeholder tensor 'gradients/split_1_grad/concat/split_1/split_dim' with dtype int32\n",
      "\t [[{{node gradients/split_1_grad/concat/split_1/split_dim}}]]\n"
     ]
    },
    {
     "name": "stdout",
     "output_type": "stream",
     "text": [
      "decoder outputs\n",
      "(None, 15, 1)\n",
      "53/53 [==============================] - ETA: 0s - loss: 135.3367(None, 50, 63)\n"
     ]
    },
    {
     "name": "stderr",
     "output_type": "stream",
     "text": [
      "2024-07-22 20:19:26.935302: I tensorflow/core/common_runtime/executor.cc:1197] [/device:CPU:0] (DEBUG INFO) Executor start aborting (this does not indicate an error and you can ignore this message): INVALID_ARGUMENT: You must feed a value for placeholder tensor 'gradients/split_2_grad/concat/split_2/split_dim' with dtype int32\n",
      "\t [[{{node gradients/split_2_grad/concat/split_2/split_dim}}]]\n",
      "2024-07-22 20:19:26.937400: I tensorflow/core/common_runtime/executor.cc:1197] [/device:CPU:0] (DEBUG INFO) Executor start aborting (this does not indicate an error and you can ignore this message): INVALID_ARGUMENT: You must feed a value for placeholder tensor 'gradients/split_grad/concat/split/split_dim' with dtype int32\n",
      "\t [[{{node gradients/split_grad/concat/split/split_dim}}]]\n",
      "2024-07-22 20:19:26.938904: I tensorflow/core/common_runtime/executor.cc:1197] [/device:CPU:0] (DEBUG INFO) Executor start aborting (this does not indicate an error and you can ignore this message): INVALID_ARGUMENT: You must feed a value for placeholder tensor 'gradients/split_1_grad/concat/split_1/split_dim' with dtype int32\n",
      "\t [[{{node gradients/split_1_grad/concat/split_1/split_dim}}]]\n"
     ]
    },
    {
     "name": "stdout",
     "output_type": "stream",
     "text": [
      "decoder outputs\n",
      "(None, 15, 1)\n",
      "Attention Weights Shape:  (None, 15, 50)\n",
      "53/53 [==============================] - 16s 86ms/step - loss: 135.3367 - val_loss: 6535.5972\n",
      "Epoch 2/250\n",
      "53/53 [==============================] - 2s 32ms/step - loss: 36.9399 - val_loss: 6089.0327\n",
      "Epoch 3/250\n",
      "53/53 [==============================] - 2s 32ms/step - loss: 39.7343 - val_loss: 6923.3955\n",
      "Epoch 4/250\n",
      "53/53 [==============================] - 2s 32ms/step - loss: 39.0351 - val_loss: 4751.5669\n",
      "Epoch 5/250\n",
      "53/53 [==============================] - 2s 32ms/step - loss: 36.8635 - val_loss: 4383.5991\n",
      "Epoch 6/250\n",
      "53/53 [==============================] - 2s 32ms/step - loss: 37.6503 - val_loss: 5569.7480\n",
      "Epoch 7/250\n",
      "53/53 [==============================] - 2s 32ms/step - loss: 72.4668 - val_loss: 7881.1729\n",
      "Epoch 8/250\n",
      "53/53 [==============================] - 2s 32ms/step - loss: 76.6614 - val_loss: 7368.3564\n",
      "Epoch 9/250\n",
      "53/53 [==============================] - 2s 32ms/step - loss: 73.8727 - val_loss: 6245.9297\n",
      "Epoch 10/250\n",
      "53/53 [==============================] - 2s 32ms/step - loss: 49.5812 - val_loss: 6333.7031\n",
      "Epoch 11/250\n",
      "53/53 [==============================] - 2s 32ms/step - loss: 51.4828 - val_loss: 9771.2373\n",
      "Epoch 12/250\n",
      "53/53 [==============================] - 2s 32ms/step - loss: 59.9044 - val_loss: 6795.5825\n",
      "Epoch 13/250\n",
      "53/53 [==============================] - 2s 32ms/step - loss: 69.6542 - val_loss: 10473.4785\n",
      "Epoch 14/250\n",
      "53/53 [==============================] - 2s 32ms/step - loss: 71.8017 - val_loss: 9444.0332\n",
      "Epoch 15/250\n",
      "53/53 [==============================] - 2s 32ms/step - loss: 233.0145 - val_loss: 15681.6631\n"
     ]
    },
    {
     "data": {
      "text/plain": [
       "<test_utils_models.CustomSeq2SeqModel at 0x7f93283db850>"
      ]
     },
     "execution_count": 162,
     "metadata": {},
     "output_type": "execute_result"
    }
   ],
   "source": [
    "total_cluster.train_model(baseline_model, epochs, batch_size, shuffle = True)"
   ]
  },
  {
   "cell_type": "code",
   "execution_count": 142,
   "metadata": {},
   "outputs": [
    {
     "name": "stdout",
     "output_type": "stream",
     "text": [
      " 1/25 [>.............................] - ETA: 0s"
     ]
    },
    {
     "name": "stdout",
     "output_type": "stream",
     "text": [
      "25/25 [==============================] - 0s 14ms/step\n"
     ]
    }
   ],
   "source": [
    "y_pred, attenion_weights = baseline_model.predict(X_test_filtered)"
   ]
  },
  {
   "cell_type": "code",
   "execution_count": 143,
   "metadata": {},
   "outputs": [
    {
     "data": {
      "text/plain": [
       "array([[93.27583 ],\n",
       "       [98.33334 ],\n",
       "       [99.39357 ],\n",
       "       [99.60744 ],\n",
       "       [99.65904 ],\n",
       "       [99.675644],\n",
       "       [99.68292 ],\n",
       "       [99.687096],\n",
       "       [99.69    ],\n",
       "       [99.692314],\n",
       "       [99.694336],\n",
       "       [99.69616 ],\n",
       "       [99.69791 ],\n",
       "       [99.699585],\n",
       "       [99.70122 ]], dtype=float32)"
      ]
     },
     "execution_count": 143,
     "metadata": {},
     "output_type": "execute_result"
    }
   ],
   "source": [
    "y_pred[0]"
   ]
  },
  {
   "cell_type": "code",
   "execution_count": 144,
   "metadata": {},
   "outputs": [
    {
     "data": {
      "text/plain": [
       "(798, 15, 1)"
      ]
     },
     "execution_count": 144,
     "metadata": {},
     "output_type": "execute_result"
    }
   ],
   "source": [
    "y_pred.shape"
   ]
  },
  {
   "cell_type": "code",
   "execution_count": 145,
   "metadata": {},
   "outputs": [
    {
     "data": {
      "text/plain": [
       "(798, 15, 1)"
      ]
     },
     "execution_count": 145,
     "metadata": {},
     "output_type": "execute_result"
    }
   ],
   "source": [
    "y_test_filtered.shape"
   ]
  },
  {
   "cell_type": "code",
   "execution_count": 146,
   "metadata": {},
   "outputs": [],
   "source": [
    "# y_feature_sets = group_params.y_feature_sets\n",
    "# predicted_y_transformed = np.zeros_like(y_pred)\n",
    "# actual_y_transformed = np.zeros_like(y_test_filtered)\n",
    "# for i, feature in enumerate(target_features):\n",
    "#     scaler = [feature_set for feature_set in y_feature_sets if feature == feature_set.name][0].scaler\n",
    "#     predicted_y_transformed[:, i] = scaler.inverse_transform(y_pred[:, i].reshape(-1, 1))\n",
    "\n",
    "#     actual_y_transformed[:, i] = scaler.inverse_transform(y_test_filtered[:, i].reshape(-1, 1))"
   ]
  },
  {
   "cell_type": "code",
   "execution_count": 147,
   "metadata": {},
   "outputs": [],
   "source": [
    "predicted_y_transformed = y_pred\n",
    "actual_y_transformed = y_test_filtered"
   ]
  },
  {
   "cell_type": "code",
   "execution_count": 148,
   "metadata": {},
   "outputs": [
    {
     "data": {
      "text/plain": [
       "(798, 15, 1)"
      ]
     },
     "execution_count": 148,
     "metadata": {},
     "output_type": "execute_result"
    }
   ],
   "source": [
    "predicted_y_transformed.shape"
   ]
  },
  {
   "cell_type": "code",
   "execution_count": 149,
   "metadata": {},
   "outputs": [
    {
     "data": {
      "text/plain": [
       "array([[93.27583 ],\n",
       "       [98.33334 ],\n",
       "       [99.39357 ],\n",
       "       [99.60744 ],\n",
       "       [99.65904 ],\n",
       "       [99.675644],\n",
       "       [99.68292 ],\n",
       "       [99.687096],\n",
       "       [99.69    ],\n",
       "       [99.692314],\n",
       "       [99.694336],\n",
       "       [99.69616 ],\n",
       "       [99.69791 ],\n",
       "       [99.699585],\n",
       "       [99.70122 ]], dtype=float32)"
      ]
     },
     "execution_count": 149,
     "metadata": {},
     "output_type": "execute_result"
    }
   ],
   "source": [
    "predicted_y_transformed[0]"
   ]
  },
  {
   "cell_type": "code",
   "execution_count": 150,
   "metadata": {},
   "outputs": [
    {
     "data": {
      "text/plain": [
       "<module 'paper_utils' from '/home/ajp031/ClusterCastProd/Notebooks/paper_utils.py'>"
      ]
     },
     "execution_count": 150,
     "metadata": {},
     "output_type": "execute_result"
    }
   ],
   "source": [
    "reload(paper_utils)"
   ]
  },
  {
   "cell_type": "code",
   "execution_count": 151,
   "metadata": {},
   "outputs": [],
   "source": [
    "X_feature_sets = group_params.X_feature_sets\n",
    "trend_scaler = [feature_set for feature_set in X_feature_sets if 'trend_vars' == feature_set.name][0].scaler\n",
    "price_scaler = [feature_set for feature_set in X_feature_sets if 'price_vars' == feature_set.name][0].scaler"
   ]
  },
  {
   "cell_type": "code",
   "execution_count": 152,
   "metadata": {},
   "outputs": [
    {
     "name": "stdout",
     "output_type": "stream",
     "text": [
      "106/106 [==============================] - 1s 14ms/step\n"
     ]
    }
   ],
   "source": [
    "y_train_pred, attention = baseline_model.predict(X_train_filtered)"
   ]
  },
  {
   "cell_type": "code",
   "execution_count": 153,
   "metadata": {},
   "outputs": [
    {
     "name": "stdout",
     "output_type": "stream",
     "text": [
      "[[92.255066]\n",
      " [97.94344 ]\n",
      " [99.449005]\n",
      " [99.7595  ]\n",
      " [99.82621 ]\n",
      " [99.84466 ]\n",
      " [99.85186 ]\n",
      " [99.85575 ]\n",
      " [99.85844 ]\n",
      " [99.86058 ]\n",
      " [99.86248 ]\n",
      " [99.86423 ]\n",
      " [99.86591 ]\n",
      " [99.86753 ]\n",
      " [99.869125]]\n",
      "[[138.33999634]\n",
      " [142.99000549]\n",
      " [138.38000488]\n",
      " [142.41000366]\n",
      " [143.75      ]\n",
      " [143.86000061]\n",
      " [143.38999939]\n",
      " [147.27000427]\n",
      " [149.44999695]\n",
      " [152.33999634]\n",
      " [149.3500061 ]\n",
      " [144.80000305]\n",
      " [155.74000549]\n",
      " [153.33999634]\n",
      " [150.6499939 ]]\n",
      "DatetimeIndex(['2022-10-12'], dtype='datetime64[ns]', freq='C')\n"
     ]
    },
    {
     "data": {
      "image/png": "[encoded data removed]",
      "text/plain": [
       "<Figure size 800x575 with 4 Axes>"
      ]
     },
     "metadata": {},
     "output_type": "display_data"
    }
   ],
   "source": [
    "import matplotlib.pyplot as plt\n",
    "for i in range(500,501):\n",
    "    seq_element = total_cluster.test_seq_elements[i]\n",
    "    # seq_element = total_cluster.train_seq_elements[i]\n",
    "\n",
    "    close_price = X_test_close[i]\n",
    "    close_price = close_price.reshape(-1,1)\n",
    "\n",
    "    y_pred_cur = y_pred[i]\n",
    "    y_true_cur = y_test_filtered[i]\n",
    "    # y_pred_cur = y_train_pred[i]\n",
    "    # y_true_cur = y_train_filtered[i]\n",
    "    print(y_pred_cur)\n",
    "    print(y_true_cur)\n",
    "\n",
    "    paper_utils.visualize_future_movement_mpl_close(seq_element, [y_pred_cur], y_true_cur, trend_scaler, price_scaler)"
   ]
  },
  {
   "cell_type": "code",
   "execution_count": null,
   "metadata": {},
   "outputs": [],
   "source": []
  },
  {
   "cell_type": "code",
   "execution_count": null,
   "metadata": {},
   "outputs": [],
   "source": []
  }
 ],
 "metadata": {
  "kernelspec": {
   "display_name": "base",
   "language": "python",
   "name": "python3"
  },
  "language_info": {
   "codemirror_mode": {
    "name": "ipython",
    "version": 3
   },
   "file_extension": ".py",
   "mimetype": "text/x-python",
   "name": "python",
   "nbconvert_exporter": "python",
   "pygments_lexer": "ipython3",
   "version": "3.10.9"
  }
 },
 "nbformat": 4,
 "nbformat_minor": 2
}
