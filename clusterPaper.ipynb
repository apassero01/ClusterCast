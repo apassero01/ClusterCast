{
 "cells": [
  {
   "cell_type": "code",
   "execution_count": 1,
   "metadata": {},
   "outputs": [
    {
     "name": "stderr",
     "output_type": "stream",
     "text": [
      "Exception ignored on calling ctypes callback function: <function _ThreadpoolInfo._find_modules_with_dl_iterate_phdr.<locals>.match_module_callback at 0x7f5e7a03f880>\n",
      "Traceback (most recent call last):\n",
      "  File \"/usr/remote/apps/anaconda/2023.03-acet116/lib/python3.10/site-packages/threadpoolctl.py\", line 400, in match_module_callback\n",
      "    self._make_module_from_path(filepath)\n",
      "  File \"/usr/remote/apps/anaconda/2023.03-acet116/lib/python3.10/site-packages/threadpoolctl.py\", line 515, in _make_module_from_path\n",
      "    module = module_class(filepath, prefix, user_api, internal_api)\n",
      "  File \"/usr/remote/apps/anaconda/2023.03-acet116/lib/python3.10/site-packages/threadpoolctl.py\", line 606, in __init__\n",
      "    self.version = self.get_version()\n",
      "  File \"/usr/remote/apps/anaconda/2023.03-acet116/lib/python3.10/site-packages/threadpoolctl.py\", line 646, in get_version\n",
      "    config = get_config().split()\n",
      "AttributeError: 'NoneType' object has no attribute 'split'\n",
      "2024-03-07 18:41:03.421063: I tensorflow/core/platform/cpu_feature_guard.cc:182] This TensorFlow binary is optimized to use available CPU instructions in performance-critical operations.\n",
      "To enable the following instructions: AVX2 FMA, in other operations, rebuild TensorFlow with the appropriate compiler flags.\n",
      "2024-03-07 18:41:04.437456: W tensorflow/compiler/tf2tensorrt/utils/py_utils.cc:38] TF-TRT Warning: Could not find TensorRT\n"
     ]
    }
   ],
   "source": [
    "import os\n",
    "os.environ['DJANGO_SETTINGS_MODULE'] = 'ClusterCast.settings'\n",
    "import test_utils\n",
    "import django\n",
    "django.setup()\n",
    "import sys\n",
    "sys.path.append(\"/home/ajp031/StockDeepLearning/ClusterCast/ClusterCast\")\n",
    "from asgiref.sync import sync_to_async\n",
    "from importlib import reload\n",
    "import ClusterPipeline.models.ClusterProcessing as cp\n",
    "import ClusterPipeline.models.SequencePreprocessing as sp\n",
    "from copy import deepcopy\n",
    "import numpy as np\n",
    "from tensorflow.keras.backend import clear_session\n",
    "import random"
   ]
  },
  {
   "cell_type": "code",
   "execution_count": 2,
   "metadata": {},
   "outputs": [
    {
     "data": {
      "text/plain": [
       "<module 'test_utils' from '/home/ajp031/ClusterCast/test_utils.py'>"
      ]
     },
     "execution_count": 2,
     "metadata": {},
     "output_type": "execute_result"
    }
   ],
   "source": [
    "reload(test_utils)"
   ]
  },
  {
   "cell_type": "code",
   "execution_count": 3,
   "metadata": {},
   "outputs": [
    {
     "name": "stdout",
     "output_type": "stream",
     "text": [
      "Creating and Processing Dataset\n",
      "[*********************100%***********************]  1 of 1 completed\n",
      "[*********************100%***********************]  1 of 1 completed\n",
      "Empty DataFrame\n",
      "Columns: []\n",
      "Index: [2007-01-03 00:00:00]\n",
      "               macd  macd_signal  macd_diff\n",
      "Date                                       \n",
      "2007-01-03 -0.36177     0.002469  -0.441851\n",
      "Empty DataFrame\n",
      "Columns: []\n",
      "Index: [2007-01-03 00:00:00]\n",
      "              stoch_k    stoch_d\n",
      "Date                            \n",
      "2007-01-03  65.766718  60.755066\n",
      "first date stoch: 2007-01-03 00:00:00\n",
      "last date stoch: 2024-03-05 00:00:00\n",
      "first date df: 2007-01-03 00:00:00\n",
      "last date df: 2024-03-05 00:00:00\n",
      "Scaling Quant Min Max Features\n",
      "Quant Min Max Features Scaled\n",
      "Scaling Standard\n",
      "Name: momentum_vars len 10\n",
      "Name: pctChg_vars len 115\n",
      "Name: lag_features_vars len 230\n",
      "Name: pctChgopen_rolling len 1\n",
      "Name: pctChghigh_rolling len 1\n",
      "Name: pctChglow_rolling len 1\n",
      "Name: pctChgclose_rolling len 1\n",
      "Name: pctChgvolume_rolling len 1\n",
      "Name: pctChgVix_rolling len 1\n",
      "Name: pctDiff+sma5_close_rolling len 1\n",
      "Name: pctDiff+sma5_sma10_rolling len 1\n",
      "Name: pctDiff+sma5_sma20_rolling len 1\n",
      "Name: pctDiff+sma5_sma30_rolling len 1\n",
      "Name: pctDiff+sma5_sma50_rolling len 1\n",
      "Name: pctDiff+sma5_sma100_rolling len 1\n",
      "Name: pctDiff+sma5_sma200_rolling len 1\n",
      "Name: pctDiff+sma10_sma20_rolling len 1\n",
      "Name: pctDiff+sma10_sma30_rolling len 1\n",
      "Name: pctDiff+sma10_sma50_rolling len 1\n",
      "Name: pctDiff+sma10_sma100_rolling len 1\n",
      "Name: pctDiff+sma10_sma200_rolling len 1\n",
      "Name: pctDiff+sma20_sma30_rolling len 1\n",
      "Name: pctDiff+sma20_sma50_rolling len 1\n",
      "Name: pctDiff+sma20_sma100_rolling len 1\n",
      "Name: pctDiff+sma20_sma200_rolling len 1\n",
      "Name: pctDiff+sma30_sma50_rolling len 1\n",
      "Name: pctDiff+sma30_sma100_rolling len 1\n",
      "Name: pctDiff+sma30_sma200_rolling len 1\n",
      "Name: pctDiff+sma50_sma100_rolling len 1\n",
      "Name: pctDiff+sma50_sma200_rolling len 1\n",
      "Name: pctDiff+sma100_sma200_rolling len 1\n",
      "Name: pctDiff+sma10_close_rolling len 1\n",
      "Name: pctDiff+sma20_close_rolling len 1\n",
      "Name: pctDiff+sma30_close_rolling len 1\n",
      "Name: pctDiff+sma50_close_rolling len 1\n",
      "Name: pctDiff+sma100_close_rolling len 1\n",
      "Name: pctDiff+sma200_close_rolling len 1\n",
      "Name: pctDiff+ema5_close_rolling len 1\n",
      "Name: pctDiff+ema10_close_rolling len 1\n",
      "Name: pctDiff+ema20_close_rolling len 1\n",
      "Name: pctDiff+ema30_close_rolling len 1\n",
      "Name: pctDiff+ema50_close_rolling len 1\n",
      "Name: pctDiff+ema100_close_rolling len 1\n",
      "Name: pctDiff+ema200_close_rolling len 1\n",
      "Name: pctDiff+ema5_ema10_rolling len 1\n",
      "Name: pctDiff+ema5_ema20_rolling len 1\n",
      "Name: pctDiff+ema5_ema30_rolling len 1\n",
      "Name: pctDiff+ema5_ema50_rolling len 1\n",
      "Name: pctDiff+ema5_ema100_rolling len 1\n",
      "Name: pctDiff+ema5_ema200_rolling len 1\n",
      "Name: pctDiff+ema10_ema20_rolling len 1\n",
      "Name: pctDiff+ema10_ema30_rolling len 1\n",
      "Name: pctDiff+ema10_ema50_rolling len 1\n",
      "Name: pctDiff+ema10_ema100_rolling len 1\n",
      "Name: pctDiff+ema10_ema200_rolling len 1\n",
      "Name: pctDiff+ema20_ema30_rolling len 1\n",
      "Name: pctDiff+ema20_ema50_rolling len 1\n",
      "Name: pctDiff+ema20_ema100_rolling len 1\n",
      "Name: pctDiff+ema20_ema200_rolling len 1\n",
      "Name: pctDiff+ema30_ema50_rolling len 1\n",
      "Name: pctDiff+ema30_ema100_rolling len 1\n",
      "Name: pctDiff+ema30_ema200_rolling len 1\n",
      "Name: pctDiff+ema50_ema100_rolling len 1\n",
      "Name: pctDiff+ema50_ema200_rolling len 1\n",
      "Name: pctDiff+ema100_ema200_rolling len 1\n",
      "Name: deriv+sma5_rolling len 1\n",
      "Name: deriv+sma10_rolling len 1\n",
      "Name: deriv+sma20_rolling len 1\n",
      "Name: deriv+sma30_rolling len 1\n",
      "Name: deriv+sma50_rolling len 1\n",
      "Name: deriv+sma100_rolling len 1\n",
      "Name: deriv+sma200_rolling len 1\n",
      "Name: deriv+ema5_rolling len 1\n",
      "Name: deriv+ema10_rolling len 1\n",
      "Name: deriv+ema20_rolling len 1\n",
      "Name: deriv+ema30_rolling len 1\n",
      "Name: deriv+ema50_rolling len 1\n",
      "Name: deriv+ema100_rolling len 1\n",
      "Name: deriv+ema200_rolling len 1\n",
      "Name: pctDiff+smaVol5_volume_rolling len 1\n",
      "Name: pctDiff+smaVol10_volume_rolling len 1\n",
      "Name: pctDiff+smaVol20_volume_rolling len 1\n",
      "Name: pctDiff+smaVol50_volume_rolling len 1\n",
      "Name: pctDiff+smaVol5_smaVol10_rolling len 1\n",
      "Name: pctDiff+smaVol5_smaVol20_rolling len 1\n",
      "Name: pctDiff+smaVol5_smaVol50_rolling len 1\n",
      "Name: pctDiff+smaVol10_smaVol20_rolling len 1\n",
      "Name: pctDiff+smaVol10_smaVol50_rolling len 1\n",
      "Name: pctDiff+smaVol20_smaVol50_rolling len 1\n",
      "Name: deriv+smaVol5_rolling len 1\n",
      "Name: deriv+smaVol10_rolling len 1\n",
      "Name: deriv+smaVol20_rolling len 1\n",
      "Name: deriv+smaVol50_rolling len 1\n",
      "Name: pctDiff+bb_high_low10_rolling len 1\n",
      "Name: pctDiff+bb_high_close10_rolling len 1\n",
      "Name: pctDiff+bb_low_close10_rolling len 1\n",
      "Name: bb_indicator10_rolling len 1\n",
      "Name: pctDiff+bb_high_low20_rolling len 1\n",
      "Name: pctDiff+bb_high_close20_rolling len 1\n",
      "Name: pctDiff+bb_low_close20_rolling len 1\n",
      "Name: bb_indicator20_rolling len 1\n",
      "Name: pctDiff+bb_high_low40_rolling len 1\n",
      "Name: pctDiff+bb_high_close40_rolling len 1\n",
      "Name: pctDiff+bb_low_close40_rolling len 1\n",
      "Name: bb_indicator40_rolling len 1\n",
      "Name: pctDiff+bb_high_low60_rolling len 1\n",
      "Name: pctDiff+bb_high_close60_rolling len 1\n",
      "Name: pctDiff+bb_low_close60_rolling len 1\n",
      "Name: bb_indicator60_rolling len 1\n",
      "Name: opHi_rolling len 1\n",
      "Name: opLo_rolling len 1\n",
      "Name: hiCl_rolling len 1\n",
      "Name: loCl_rolling len 1\n",
      "Name: hiLo_rolling len 1\n",
      "Name: opCl_rolling len 1\n",
      "Name: pctChgClOp_rolling len 1\n",
      "Name: pctChgClLo_rolling len 1\n",
      "Name: pctChgClHi_rolling len 1\n",
      "Name: pctChgclose_rolling len 15\n",
      "RandomForest Compete\n",
      "sumpctDiff+sma10_sma200_50    float32\n",
      "sumpctDiff+ema10_ema50_50     float32\n",
      "pctDiff+ema30_close           float32\n",
      "deriv+sma5                    float32\n",
      "pctDiff+sma5_sma100           float32\n",
      "                               ...   \n",
      "sumPctChgclose+1              float32\n",
      "sumpctDiff+sma50_sma100_50    float32\n",
      "pctChgClLo-3                  float32\n",
      "pctDiff+ema5_ema100-3         float32\n",
      "sumpctDiff+ema20_ema30_50     float32\n",
      "Length: 562, dtype: object\n",
      "sumpctDiff+sma10_sma200_50    float32\n",
      "sumpctDiff+ema10_ema50_50     float32\n",
      "pctDiff+ema30_close           float32\n",
      "deriv+sma5                    float32\n",
      "pctDiff+sma5_sma100           float32\n",
      "                               ...   \n",
      "sumPctChgclose+1              float32\n",
      "sumpctDiff+sma50_sma100_50    float32\n",
      "pctChgClLo-3                  float32\n",
      "pctDiff+ema5_ema100-3         float32\n",
      "sumpctDiff+ema20_ema30_50     float32\n",
      "Length: 562, dtype: object\n",
      "Dataset Preprocessing Complete\n",
      "Creating Sequences\n",
      "y_feature_dict\n",
      "{'pctChgclose+10_target': 0, 'pctChgclose+11_target': 1, 'pctChgclose+12_target': 2, 'pctChgclose+13_target': 3, 'pctChgclose+14_target': 4, 'pctChgclose+15_target': 5, 'pctChgclose+1_target': 6, 'pctChgclose+2_target': 7, 'pctChgclose+3_target': 8, 'pctChgclose+4_target': 9, 'pctChgclose+5_target': 10, 'pctChgclose+6_target': 11, 'pctChgclose+7_target': 12, 'pctChgclose+8_target': 13, 'pctChgclose+9_target': 14, 'pctChgclose-0_target': 15, 'pctChgclose-10_target': 16, 'pctChgclose-11_target': 17, 'pctChgclose-12_target': 18, 'pctChgclose-13_target': 19, 'pctChgclose-14_target': 20, 'pctChgclose-1_target': 21, 'pctChgclose-2_target': 22, 'pctChgclose-3_target': 23, 'pctChgclose-4_target': 24, 'pctChgclose-5_target': 25, 'pctChgclose-6_target': 26, 'pctChgclose-7_target': 27, 'pctChgclose-8_target': 28, 'pctChgclose-9_target': 29, 'sumPctChgclose+1': 30, 'sumPctChgclose+10': 31, 'sumPctChgclose+11': 32, 'sumPctChgclose+12': 33, 'sumPctChgclose+13': 34, 'sumPctChgclose+14': 35, 'sumPctChgclose+15': 36, 'sumPctChgclose+2': 37, 'sumPctChgclose+3': 38, 'sumPctChgclose+4': 39, 'sumPctChgclose+5': 40, 'sumPctChgclose+6': 41, 'sumPctChgclose+7': 42, 'sumPctChgclose+8': 43, 'sumPctChgclose+9': 44}\n",
      "[517, 518, 519, 520, 521, 522, 523, 524, 525, 526, 527, 528, 529, 530, 531, 532, 533, 534, 535, 536, 537, 538, 539, 540, 541, 542, 543, 544, 545, 546, 547, 548, 549, 550, 551, 552, 553, 554, 555, 556, 557, 558, 559, 560, 561]\n",
      "y_feature_dict\n",
      "{'pctChgclose+10_target': 0, 'pctChgclose+11_target': 1, 'pctChgclose+12_target': 2, 'pctChgclose+13_target': 3, 'pctChgclose+14_target': 4, 'pctChgclose+15_target': 5, 'pctChgclose+1_target': 6, 'pctChgclose+2_target': 7, 'pctChgclose+3_target': 8, 'pctChgclose+4_target': 9, 'pctChgclose+5_target': 10, 'pctChgclose+6_target': 11, 'pctChgclose+7_target': 12, 'pctChgclose+8_target': 13, 'pctChgclose+9_target': 14, 'pctChgclose-0_target': 15, 'pctChgclose-10_target': 16, 'pctChgclose-11_target': 17, 'pctChgclose-12_target': 18, 'pctChgclose-13_target': 19, 'pctChgclose-14_target': 20, 'pctChgclose-1_target': 21, 'pctChgclose-2_target': 22, 'pctChgclose-3_target': 23, 'pctChgclose-4_target': 24, 'pctChgclose-5_target': 25, 'pctChgclose-6_target': 26, 'pctChgclose-7_target': 27, 'pctChgclose-8_target': 28, 'pctChgclose-9_target': 29, 'sumPctChgclose+1': 30, 'sumPctChgclose+10': 31, 'sumPctChgclose+11': 32, 'sumPctChgclose+12': 33, 'sumPctChgclose+13': 34, 'sumPctChgclose+14': 35, 'sumPctChgclose+15': 36, 'sumPctChgclose+2': 37, 'sumPctChgclose+3': 38, 'sumPctChgclose+4': 39, 'sumPctChgclose+5': 40, 'sumPctChgclose+6': 41, 'sumPctChgclose+7': 42, 'sumPctChgclose+8': 43, 'sumPctChgclose+9': 44}\n",
      "[517, 518, 519, 520, 521, 522, 523, 524, 525, 526, 527, 528, 529, 530, 531, 532, 533, 534, 535, 536, 537, 538, 539, 540, 541, 542, 543, 544, 545, 546, 547, 548, 549, 550, 551, 552, 553, 554, 555, 556, 557, 558, 559, 560, 561]\n",
      "Scaling Sequences\n",
      "Scaling Sequences Complete\n",
      "Sequence Preprocessing Complete\n",
      "Loading Saved Clusters\n",
      "Finished Loading Saved Clusters\n"
     ]
    }
   ],
   "source": [
    "group_ids = [44]\n",
    "groups = await test_utils.extract_cluster_groups(group_ids)"
   ]
  },
  {
   "cell_type": "code",
   "execution_count": 12,
   "metadata": {},
   "outputs": [],
   "source": [
    "clusters = await test_utils.get_all_clusters(groups)\n",
    "\n",
    "cur_group = groups[0]\n",
    "features = groups[0].group_params.training_features"
   ]
  },
  {
   "cell_type": "code",
   "execution_count": 5,
   "metadata": {},
   "outputs": [],
   "source": [
    "X_train, y_train, X_test, y_test = cur_group.get_3d_array() "
   ]
  },
  {
   "cell_type": "code",
   "execution_count": 6,
   "metadata": {},
   "outputs": [],
   "source": [
    "X_train = X_train.copy()[::-1]\n",
    "y_train = y_train.copy()[::-1]\n",
    "X_test = X_test.copy()[::-1]\n",
    "y_test = y_test.copy()[::-1]"
   ]
  },
  {
   "cell_type": "code",
   "execution_count": 7,
   "metadata": {},
   "outputs": [],
   "source": [
    "cluster_features = cur_group.group_params.cluster_features\n",
    "X_feature_dict = cur_group.group_params.X_feature_dict\n",
    "y_feature_dict = cur_group.group_params.y_feature_dict\n"
   ]
  },
  {
   "cell_type": "code",
   "execution_count": 9,
   "metadata": {},
   "outputs": [],
   "source": [
    "clusters = test_utils.cluster_a_group(cur_group, (X_train, y_train, X_test, y_test), 6)"
   ]
  },
  {
   "cell_type": "code",
   "execution_count": 13,
   "metadata": {},
   "outputs": [
    {
     "name": "stdout",
     "output_type": "stream",
     "text": [
      "['pctDiff+ema20_ema30', 'pctDiff+sma5_sma30', 'pctDiff+sma30_sma100', 'pctDiff+bb_high_close20', 'pctDiff+ema100_close', 'pctDiff+ema20_close', 'pctDiff+ema30_ema100', 'pctDiff+bb_high_low40', 'macd_signal', 'pctDiff+sma10_sma30', 'pctDiff+ema30_close', 'pctDiff+ema30_ema200', 'hiLo', 'pctChgclose', 'pctDiff+smaVol5_volume', 'macd_diff', 'pctDiff+sma5_sma20', 'pctDiff+ema10_ema200', 'pctDiff+bb_low_close10', 'rsi5', 'pctChgClLo', 'pctChgClHi', 'stoch_d', 'pctDiff+sma30_sma200', 'pctDiff+sma5_sma10', 'deriv+sma30', 'deriv+sma20', 'pctDiff+sma30_sma50', 'pctDiff+smaVol20_smaVol50', 'pctDiff+sma20_close']\n"
     ]
    }
   ],
   "source": [
    "import random\n",
    "target_features = [] \n",
    "# target_features += ['pctChgclose{}_target'.format(i) for i in range(-14, 0) ]\n",
    "# target_features += ['pctChgclose-0_target']\n",
    "target_features += ['pctChgclose+{}_target'.format(i) for i in range(1, 7) ]\n",
    "training_features = random.sample(features, 30)\n",
    "print(training_features)"
   ]
  },
  {
   "cell_type": "code",
   "execution_count": null,
   "metadata": {},
   "outputs": [],
   "source": [
    "benchmark_model, test_model = test_utils.create_attention_model(input_steps=X_train.shape[1],output_steps=len(target_features),features=len(training_features))"
   ]
  },
  {
   "cell_type": "code",
   "execution_count": null,
   "metadata": {},
   "outputs": [],
   "source": []
  }
 ],
 "metadata": {
  "kernelspec": {
   "display_name": "base",
   "language": "python",
   "name": "python3"
  },
  "language_info": {
   "codemirror_mode": {
    "name": "ipython",
    "version": 3
   },
   "file_extension": ".py",
   "mimetype": "text/x-python",
   "name": "python",
   "nbconvert_exporter": "python",
   "pygments_lexer": "ipython3",
   "version": "3.10.9"
  }
 },
 "nbformat": 4,
 "nbformat_minor": 2
}
