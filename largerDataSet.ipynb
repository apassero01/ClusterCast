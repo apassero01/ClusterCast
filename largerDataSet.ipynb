{
 "cells": [
  {
   "cell_type": "code",
   "execution_count": 1,
   "metadata": {},
   "outputs": [
    {
     "name": "stderr",
     "output_type": "stream",
     "text": [
      "Exception ignored on calling ctypes callback function: <function _ThreadpoolInfo._find_modules_with_dl_iterate_phdr.<locals>.match_module_callback at 0x7fb5c2a35870>\n",
      "Traceback (most recent call last):\n",
      "  File \"/usr/remote/apps/anaconda/2023.03-acet116/lib/python3.10/site-packages/threadpoolctl.py\", line 400, in match_module_callback\n",
      "    self._make_module_from_path(filepath)\n",
      "  File \"/usr/remote/apps/anaconda/2023.03-acet116/lib/python3.10/site-packages/threadpoolctl.py\", line 515, in _make_module_from_path\n",
      "    module = module_class(filepath, prefix, user_api, internal_api)\n",
      "  File \"/usr/remote/apps/anaconda/2023.03-acet116/lib/python3.10/site-packages/threadpoolctl.py\", line 606, in __init__\n",
      "    self.version = self.get_version()\n",
      "  File \"/usr/remote/apps/anaconda/2023.03-acet116/lib/python3.10/site-packages/threadpoolctl.py\", line 646, in get_version\n",
      "    config = get_config().split()\n",
      "AttributeError: 'NoneType' object has no attribute 'split'\n",
      "2024-01-31 22:54:36.649857: I tensorflow/core/platform/cpu_feature_guard.cc:182] This TensorFlow binary is optimized to use available CPU instructions in performance-critical operations.\n",
      "To enable the following instructions: AVX2 FMA, in other operations, rebuild TensorFlow with the appropriate compiler flags.\n",
      "2024-01-31 22:54:38.075116: W tensorflow/compiler/tf2tensorrt/utils/py_utils.cc:38] TF-TRT Warning: Could not find TensorRT\n"
     ]
    }
   ],
   "source": [
    "import test_utils\n",
    "import os\n",
    "os.environ[\"DJANGO_SETTINGS_MODULE\"] = \"ClusterCast.settings\"\n",
    "import django\n",
    "django.setup()\n",
    "import sys\n",
    "sys.path.append(\"/home/ajp031/StockDeepLearning/ClusterCast/ClusterCast\")\n",
    "from asgiref.sync import sync_to_async\n",
    "from importlib import reload"
   ]
  },
  {
   "cell_type": "code",
   "execution_count": 2,
   "metadata": {},
   "outputs": [
    {
     "data": {
      "text/plain": [
       "<module 'test_utils' from '/home/ajp031/StockDeepLearning/ClusterCast/ClusterCast/test_utils.py'>"
      ]
     },
     "execution_count": 2,
     "metadata": {},
     "output_type": "execute_result"
    }
   ],
   "source": [
    "reload(test_utils)"
   ]
  },
  {
   "cell_type": "code",
   "execution_count": 3,
   "metadata": {},
   "outputs": [
    {
     "name": "stdout",
     "output_type": "stream",
     "text": [
      "Creating and Processing Dataset\n"
     ]
    },
    {
     "name": "stdout",
     "output_type": "stream",
     "text": [
      "[*********************100%***********************]  1 of 1 completed\n",
      "[*********************100%***********************]  1 of 1 completed\n",
      "['pctChgclose+1', 'pctChgclose+2', 'pctChgclose+3', 'pctChgclose+4', 'pctChgclose+5', 'pctChgclose+6']\n",
      "['pctChgclose-0', 'pctChgclose-1', 'pctChgclose-2', 'pctChgclose-3', 'pctChgclose-4', 'pctChgclose-5', 'pctChgclose-6', 'pctChgclose-7', 'pctChgclose-8', 'pctChgclose-9', 'pctChgclose-10', 'pctChgclose-11', 'pctChgclose-12', 'pctChgclose-13', 'pctChgclose-14', 'pctChgclose-15']\n",
      "['pctChgclose-0', 'pctChgclose-1', 'pctChgclose-2', 'pctChgclose-3', 'pctChgclose-4', 'pctChgclose-5', 'pctChgclose-6', 'pctChgclose-7', 'pctChgclose-8', 'pctChgclose-9', 'pctChgclose-10', 'pctChgclose-11', 'pctChgclose-12', 'pctChgclose-13', 'pctChgclose-14', 'pctChgclose-15']\n",
      "Scaling Quant Min Max Features\n",
      "Quant Min Max Features Scaled\n",
      "Dataset Preprocessing Complete\n",
      "Creating and Processing Dataset\n",
      "[*********************100%***********************]  1 of 1 completed\n",
      "[*********************100%***********************]  1 of 1 completed\n",
      "['pctChgclose+1', 'pctChgclose+2', 'pctChgclose+3', 'pctChgclose+4', 'pctChgclose+5', 'pctChgclose+6']\n",
      "['pctChgclose-0', 'pctChgclose-1', 'pctChgclose-2', 'pctChgclose-3', 'pctChgclose-4', 'pctChgclose-5', 'pctChgclose-6', 'pctChgclose-7', 'pctChgclose-8', 'pctChgclose-9', 'pctChgclose-10', 'pctChgclose-11', 'pctChgclose-12', 'pctChgclose-13', 'pctChgclose-14', 'pctChgclose-15']\n",
      "['pctChgclose-0', 'pctChgclose-1', 'pctChgclose-2', 'pctChgclose-3', 'pctChgclose-4', 'pctChgclose-5', 'pctChgclose-6', 'pctChgclose-7', 'pctChgclose-8', 'pctChgclose-9', 'pctChgclose-10', 'pctChgclose-11', 'pctChgclose-12', 'pctChgclose-13', 'pctChgclose-14', 'pctChgclose-15']\n",
      "Scaling Quant Min Max Features\n",
      "Quant Min Max Features Scaled\n",
      "Dataset Preprocessing Complete\n",
      "Creating and Processing Dataset\n",
      "[*********************100%***********************]  1 of 1 completed\n",
      "[*********************100%***********************]  1 of 1 completed\n",
      "['pctChgclose+1', 'pctChgclose+2', 'pctChgclose+3', 'pctChgclose+4', 'pctChgclose+5', 'pctChgclose+6']\n",
      "['pctChgclose-0', 'pctChgclose-1', 'pctChgclose-2', 'pctChgclose-3', 'pctChgclose-4', 'pctChgclose-5', 'pctChgclose-6', 'pctChgclose-7', 'pctChgclose-8', 'pctChgclose-9', 'pctChgclose-10', 'pctChgclose-11', 'pctChgclose-12', 'pctChgclose-13', 'pctChgclose-14', 'pctChgclose-15']\n",
      "['pctChgclose-0', 'pctChgclose-1', 'pctChgclose-2', 'pctChgclose-3', 'pctChgclose-4', 'pctChgclose-5', 'pctChgclose-6', 'pctChgclose-7', 'pctChgclose-8', 'pctChgclose-9', 'pctChgclose-10', 'pctChgclose-11', 'pctChgclose-12', 'pctChgclose-13', 'pctChgclose-14', 'pctChgclose-15']\n",
      "Scaling Quant Min Max Features\n",
      "Quant Min Max Features Scaled\n",
      "Dataset Preprocessing Complete\n",
      "Creating and Processing Dataset\n",
      "[*********************100%***********************]  1 of 1 completed\n",
      "[*********************100%***********************]  1 of 1 completed\n",
      "['pctChgclose+1', 'pctChgclose+2', 'pctChgclose+3', 'pctChgclose+4', 'pctChgclose+5', 'pctChgclose+6']\n",
      "['pctChgclose-0', 'pctChgclose-1', 'pctChgclose-2', 'pctChgclose-3', 'pctChgclose-4', 'pctChgclose-5', 'pctChgclose-6', 'pctChgclose-7', 'pctChgclose-8', 'pctChgclose-9', 'pctChgclose-10', 'pctChgclose-11', 'pctChgclose-12', 'pctChgclose-13', 'pctChgclose-14', 'pctChgclose-15']\n",
      "['pctChgclose-0', 'pctChgclose-1', 'pctChgclose-2', 'pctChgclose-3', 'pctChgclose-4', 'pctChgclose-5', 'pctChgclose-6', 'pctChgclose-7', 'pctChgclose-8', 'pctChgclose-9', 'pctChgclose-10', 'pctChgclose-11', 'pctChgclose-12', 'pctChgclose-13', 'pctChgclose-14', 'pctChgclose-15']\n",
      "Scaling Quant Min Max Features\n",
      "Quant Min Max Features Scaled\n",
      "Dataset Preprocessing Complete\n",
      "Creating and Processing Dataset\n",
      "[*********************100%***********************]  1 of 1 completed\n",
      "[*********************100%***********************]  1 of 1 completed\n",
      "['pctChgclose+1', 'pctChgclose+2', 'pctChgclose+3', 'pctChgclose+4', 'pctChgclose+5', 'pctChgclose+6']\n",
      "['pctChgclose-0', 'pctChgclose-1', 'pctChgclose-2', 'pctChgclose-3', 'pctChgclose-4', 'pctChgclose-5', 'pctChgclose-6', 'pctChgclose-7', 'pctChgclose-8', 'pctChgclose-9', 'pctChgclose-10', 'pctChgclose-11', 'pctChgclose-12', 'pctChgclose-13', 'pctChgclose-14', 'pctChgclose-15']\n",
      "['pctChgclose-0', 'pctChgclose-1', 'pctChgclose-2', 'pctChgclose-3', 'pctChgclose-4', 'pctChgclose-5', 'pctChgclose-6', 'pctChgclose-7', 'pctChgclose-8', 'pctChgclose-9', 'pctChgclose-10', 'pctChgclose-11', 'pctChgclose-12', 'pctChgclose-13', 'pctChgclose-14', 'pctChgclose-15']\n",
      "Scaling Quant Min Max Features\n",
      "Quant Min Max Features Scaled\n",
      "Dataset Preprocessing Complete\n",
      "cluster_vars\n",
      "price_vars\n",
      "trend_vars\n",
      "pctChg_vars\n",
      "pctChgema5_rolling\n",
      "pctChg+pctChgema5Close_rolling\n",
      "pctChgClOp_rolling\n",
      "pctChg+pctChgsma10Close_rolling\n",
      "pctChg+sma20Close_rolling\n",
      "pctChg+sma30Close_rolling\n",
      "pctChgClLo_rolling\n",
      "pctChg+pctChgema30Close_rolling\n",
      "pctChgsma100_rolling\n",
      "pctChgsma50_rolling\n",
      "pctChg+sma100Close_rolling\n",
      "pctChg+ema20Close_rolling\n",
      "pctChgvolume_rolling\n",
      "pctChgema30_rolling\n",
      "pctChg+pctChgema20Close_rolling\n",
      "pctChg+pctChgema100Close_rolling\n",
      "pctChghigh_rolling\n",
      "pctChg+ema100Close_rolling\n",
      "pctChgbb_low_rolling\n",
      "pctChg+ema30Close_rolling\n",
      "pctChg+pctChgema50Close_rolling\n",
      "pctChg+ema10Close_rolling\n",
      "pctChg+pctChgsma5Close_rolling\n",
      "pctChg+pctChgsma100Close_rolling\n",
      "pctChgclose_rolling\n",
      "pctChg+bb_maClose_rolling\n",
      "pctChgema100_rolling\n",
      "pctChg+ema5Close_rolling\n",
      "pctChgbb_ma_rolling\n",
      "pctChg+ema50Close_rolling\n",
      "pctChg+pctChgbb_maClose_rolling\n",
      "pctChgClHi_rolling\n",
      "pctChgsma20_rolling\n",
      "pctChgbb_high_rolling\n",
      "pctChgVix_rolling\n",
      "pctChg+sma5Close_rolling\n",
      "pctChg+pctChgema10Close_rolling\n",
      "pctChg+pctChgsma50Close_rolling\n",
      "pctChg+sma10Close_rolling\n",
      "pctChgsma10_rolling\n",
      "pctChgopen_rolling\n",
      "pctChgema50_rolling\n",
      "pctChgema10_rolling\n",
      "pctChgema20_rolling\n",
      "pctChgsma30_rolling\n",
      "pctChg+pctChgsma30Close_rolling\n",
      "pctChgsma5_rolling\n",
      "pctChglow_rolling\n",
      "pctChg+pctChgsma20Close_rolling\n",
      "pctChg+sma50Close_rolling\n",
      "pctChgclose_rolling\n",
      "Creating Sequences\n",
      "Scaling Sequences\n",
      "Scaling Sequences Complete\n",
      "380\n",
      "cluster_vars\n",
      "price_vars\n",
      "trend_vars\n",
      "pctChg_vars\n",
      "pctChgema5_rolling\n",
      "pctChg+pctChgema5Close_rolling\n",
      "pctChgClOp_rolling\n",
      "pctChg+pctChgsma10Close_rolling\n",
      "pctChg+sma20Close_rolling\n",
      "pctChg+sma30Close_rolling\n",
      "pctChgClLo_rolling\n",
      "pctChg+pctChgema30Close_rolling\n",
      "pctChgsma100_rolling\n",
      "pctChgsma50_rolling\n",
      "pctChg+sma100Close_rolling\n",
      "pctChg+ema20Close_rolling\n",
      "pctChgvolume_rolling\n",
      "pctChgema30_rolling\n",
      "pctChg+pctChgema20Close_rolling\n",
      "pctChg+pctChgema100Close_rolling\n",
      "pctChghigh_rolling\n",
      "pctChg+ema100Close_rolling\n",
      "pctChgbb_low_rolling\n",
      "pctChg+ema30Close_rolling\n",
      "pctChg+pctChgema50Close_rolling\n",
      "pctChg+ema10Close_rolling\n",
      "pctChg+pctChgsma5Close_rolling\n",
      "pctChg+pctChgsma100Close_rolling\n",
      "pctChgclose_rolling\n",
      "pctChg+bb_maClose_rolling\n",
      "pctChgema100_rolling\n",
      "pctChg+ema5Close_rolling\n",
      "pctChgbb_ma_rolling\n",
      "pctChg+ema50Close_rolling\n",
      "pctChg+pctChgbb_maClose_rolling\n",
      "pctChgClHi_rolling\n",
      "pctChgsma20_rolling\n",
      "pctChgbb_high_rolling\n",
      "pctChgVix_rolling\n",
      "pctChg+sma5Close_rolling\n",
      "pctChg+pctChgema10Close_rolling\n",
      "pctChg+pctChgsma50Close_rolling\n",
      "pctChg+sma10Close_rolling\n",
      "pctChgsma10_rolling\n",
      "pctChgopen_rolling\n",
      "pctChgema50_rolling\n",
      "pctChgema10_rolling\n",
      "pctChgema20_rolling\n",
      "pctChgsma30_rolling\n",
      "pctChg+pctChgsma30Close_rolling\n",
      "pctChgsma5_rolling\n",
      "pctChglow_rolling\n",
      "pctChg+pctChgsma20Close_rolling\n",
      "pctChg+sma50Close_rolling\n",
      "pctChgclose_rolling\n",
      "['pctChgopen', 'pctChghigh', 'pctChglow', 'pctChgclose', 'pctChgvolume', 'pctChgVix', 'pctChgsma5', 'pctChgema5', 'pctChgsma10', 'pctChgema10', 'pctChgsma20', 'pctChgema20', 'pctChgsma30', 'pctChgema30', 'pctChgsma50', 'pctChgema50', 'pctChgsma100', 'pctChgema100', 'pctChgbb_high', 'pctChgbb_low', 'pctChgbb_ma', 'pctChg+sma5Close', 'pctChg+ema5Close', 'pctChg+sma10Close', 'pctChg+ema10Close', 'pctChg+sma20Close', 'pctChg+ema20Close', 'pctChg+sma30Close', 'pctChg+ema30Close', 'pctChg+sma50Close', 'pctChg+ema50Close', 'pctChg+sma100Close', 'pctChg+ema100Close', 'pctChg+bb_maClose', 'pctChg+pctChgsma5Close', 'pctChg+pctChgema5Close', 'pctChg+pctChgsma10Close', 'pctChg+pctChgema10Close', 'pctChg+pctChgsma20Close', 'pctChg+pctChgema20Close', 'pctChg+pctChgsma30Close', 'pctChg+pctChgema30Close', 'pctChg+pctChgsma50Close', 'pctChg+pctChgema50Close', 'pctChg+pctChgsma100Close', 'pctChg+pctChgema100Close', 'pctChg+pctChgbb_maClose', 'pctChgClOp', 'pctChgClLo', 'pctChgClHi']\n",
      "pctChg_vars\n",
      "430\n"
     ]
    }
   ],
   "source": [
    "group_ids = [378]\n",
    "groups = await test_utils.extract_cluster_groups(group_ids)"
   ]
  },
  {
   "cell_type": "code",
   "execution_count": 4,
   "metadata": {},
   "outputs": [],
   "source": [
    "clusters = await test_utils.get_all_clusters(groups)"
   ]
  },
  {
   "cell_type": "code",
   "execution_count": 8,
   "metadata": {},
   "outputs": [
    {
     "data": {
      "text/plain": [
       "['pctChgopen',\n",
       " 'pctChghigh',\n",
       " 'pctChglow',\n",
       " 'pctChgclose',\n",
       " 'pctChgvolume',\n",
       " 'pctChgVix',\n",
       " 'pctChgsma5',\n",
       " 'pctChgema5',\n",
       " 'pctChgsma10',\n",
       " 'pctChgema10',\n",
       " 'pctChgsma20',\n",
       " 'pctChgema20',\n",
       " 'pctChgsma30',\n",
       " 'pctChgema30',\n",
       " 'pctChgsma50',\n",
       " 'pctChgema50',\n",
       " 'pctChgsma100',\n",
       " 'pctChgema100',\n",
       " 'pctChgbb_high',\n",
       " 'pctChgbb_low',\n",
       " 'pctChgbb_ma',\n",
       " 'pctChg+sma5Close',\n",
       " 'pctChg+ema5Close',\n",
       " 'pctChg+sma10Close',\n",
       " 'pctChg+ema10Close',\n",
       " 'pctChg+sma20Close',\n",
       " 'pctChg+ema20Close',\n",
       " 'pctChg+sma30Close',\n",
       " 'pctChg+ema30Close',\n",
       " 'pctChg+sma50Close',\n",
       " 'pctChg+ema50Close',\n",
       " 'pctChg+sma100Close',\n",
       " 'pctChg+ema100Close',\n",
       " 'pctChg+bb_maClose',\n",
       " 'pctChg+pctChgsma5Close',\n",
       " 'pctChg+pctChgema5Close',\n",
       " 'pctChg+pctChgsma10Close',\n",
       " 'pctChg+pctChgema10Close',\n",
       " 'pctChg+pctChgsma20Close',\n",
       " 'pctChg+pctChgema20Close',\n",
       " 'pctChg+pctChgsma30Close',\n",
       " 'pctChg+pctChgema30Close',\n",
       " 'pctChg+pctChgsma50Close',\n",
       " 'pctChg+pctChgema50Close',\n",
       " 'pctChg+pctChgsma100Close',\n",
       " 'pctChg+pctChgema100Close',\n",
       " 'pctChg+pctChgbb_maClose']"
      ]
     },
     "execution_count": 8,
     "metadata": {},
     "output_type": "execute_result"
    }
   ],
   "source": [
    "features = groups[0].group_params.training_features\n",
    "\n",
    "features"
   ]
  },
  {
   "cell_type": "code",
   "execution_count": null,
   "metadata": {},
   "outputs": [],
   "source": []
  },
  {
   "cell_type": "code",
   "execution_count": null,
   "metadata": {},
   "outputs": [],
   "source": []
  },
  {
   "cell_type": "code",
   "execution_count": 6,
   "metadata": {},
   "outputs": [
    {
     "name": "stdout",
     "output_type": "stream",
     "text": [
      "(8975, 30, 430)\n",
      "(8975, 37)\n",
      "(2095, 30, 430)\n",
      "(2095, 37)\n"
     ]
    }
   ],
   "source": [
    "cur_group = groups[0]\n",
    "X_train, y_train, X_test, y_test = cur_group.get_3d_array() \n",
    "cluster_features = cur_group.group_params.cluster_features\n",
    "X_feature_dict = cur_group.group_params.X_feature_dict\n",
    "y_feature_dict = cur_group.group_params.y_feature_dict\n",
    "training_dict = {}\n",
    "training_dict['0'] = (X_train, y_train, X_test, y_test)\n",
    "print(training_dict['0'][0].shape)\n",
    "print(training_dict['0'][1].shape)\n",
    "print(training_dict['0'][2].shape)\n",
    "print(training_dict['0'][3].shape)"
   ]
  },
  {
   "cell_type": "code",
   "execution_count": 26,
   "metadata": {},
   "outputs": [
    {
     "name": "stdout",
     "output_type": "stream",
     "text": [
      "430\n",
      "430\n"
     ]
    }
   ],
   "source": [
    "print(len(X_feature_dict))\n",
    "print(len(cur_group.group_params.X_cols))"
   ]
  },
  {
   "cell_type": "code",
   "execution_count": 7,
   "metadata": {},
   "outputs": [
    {
     "name": "stdout",
     "output_type": "stream",
     "text": [
      "{'Vix': 0, 'bb_high': 1, 'bb_low': 2, 'bb_ma': 3, 'close': 4, 'ema10': 5, 'ema100': 6, 'ema20': 7, 'ema30': 8, 'ema5': 9, 'ema50': 10, 'high': 11, 'low': 12, 'open': 13, 'pctChg+bb_maClose': 14, 'pctChg+ema100Close': 15, 'pctChg+ema10Close': 16, 'pctChg+ema20Close': 17, 'pctChg+ema30Close': 18, 'pctChg+ema50Close': 19, 'pctChg+ema5Close': 20, 'pctChg+pctChgbb_maClose': 21, 'pctChg+pctChgema100Close': 22, 'pctChg+pctChgema10Close': 23, 'pctChg+pctChgema20Close': 24, 'pctChg+pctChgema30Close': 25, 'pctChg+pctChgema50Close': 26, 'pctChg+pctChgema5Close': 27, 'pctChg+pctChgsma100Close': 28, 'pctChg+pctChgsma10Close': 29, 'pctChg+pctChgsma20Close': 30, 'pctChg+pctChgsma30Close': 31, 'pctChg+pctChgsma50Close': 32, 'pctChg+pctChgsma5Close': 33, 'pctChg+sma100Close': 34, 'pctChg+sma10Close': 35, 'pctChg+sma20Close': 36, 'pctChg+sma30Close': 37, 'pctChg+sma50Close': 38, 'pctChg+sma5Close': 39, 'pctChgClHi': 40, 'pctChgClLo': 41, 'pctChgClOp': 42, 'pctChgVix': 43, 'pctChgbb_high': 44, 'pctChgbb_low': 45, 'pctChgbb_ma': 46, 'pctChgclose': 47, 'pctChgema10': 48, 'pctChgema100': 49, 'pctChgema20': 50, 'pctChgema30': 51, 'pctChgema5': 52, 'pctChgema50': 53, 'pctChghigh': 54, 'pctChglow': 55, 'pctChgopen': 56, 'pctChgsma10': 57, 'pctChgsma100': 58, 'pctChgsma20': 59, 'pctChgsma30': 60, 'pctChgsma5': 61, 'pctChgsma50': 62, 'pctChgvolume': 63, 'sma10': 64, 'sma100': 65, 'sma20': 66, 'sma30': 67, 'sma5': 68, 'sma50': 69, 'sumpctChg+bb_maClose_1': 70, 'sumpctChg+bb_maClose_2': 71, 'sumpctChg+bb_maClose_3': 72, 'sumpctChg+bb_maClose_4': 73, 'sumpctChg+bb_maClose_5': 74, 'sumpctChg+bb_maClose_6': 75, 'sumpctChg+ema100Close_1': 76, 'sumpctChg+ema100Close_2': 77, 'sumpctChg+ema100Close_3': 78, 'sumpctChg+ema100Close_4': 79, 'sumpctChg+ema100Close_5': 80, 'sumpctChg+ema100Close_6': 81, 'sumpctChg+ema10Close_1': 82, 'sumpctChg+ema10Close_2': 83, 'sumpctChg+ema10Close_3': 84, 'sumpctChg+ema10Close_4': 85, 'sumpctChg+ema10Close_5': 86, 'sumpctChg+ema10Close_6': 87, 'sumpctChg+ema20Close_1': 88, 'sumpctChg+ema20Close_2': 89, 'sumpctChg+ema20Close_3': 90, 'sumpctChg+ema20Close_4': 91, 'sumpctChg+ema20Close_5': 92, 'sumpctChg+ema20Close_6': 93, 'sumpctChg+ema30Close_1': 94, 'sumpctChg+ema30Close_2': 95, 'sumpctChg+ema30Close_3': 96, 'sumpctChg+ema30Close_4': 97, 'sumpctChg+ema30Close_5': 98, 'sumpctChg+ema30Close_6': 99, 'sumpctChg+ema50Close_1': 100, 'sumpctChg+ema50Close_2': 101, 'sumpctChg+ema50Close_3': 102, 'sumpctChg+ema50Close_4': 103, 'sumpctChg+ema50Close_5': 104, 'sumpctChg+ema50Close_6': 105, 'sumpctChg+ema5Close_1': 106, 'sumpctChg+ema5Close_2': 107, 'sumpctChg+ema5Close_3': 108, 'sumpctChg+ema5Close_4': 109, 'sumpctChg+ema5Close_5': 110, 'sumpctChg+ema5Close_6': 111, 'sumpctChg+pctChgbb_maClose_1': 112, 'sumpctChg+pctChgbb_maClose_2': 113, 'sumpctChg+pctChgbb_maClose_3': 114, 'sumpctChg+pctChgbb_maClose_4': 115, 'sumpctChg+pctChgbb_maClose_5': 116, 'sumpctChg+pctChgbb_maClose_6': 117, 'sumpctChg+pctChgema100Close_1': 118, 'sumpctChg+pctChgema100Close_2': 119, 'sumpctChg+pctChgema100Close_3': 120, 'sumpctChg+pctChgema100Close_4': 121, 'sumpctChg+pctChgema100Close_5': 122, 'sumpctChg+pctChgema100Close_6': 123, 'sumpctChg+pctChgema10Close_1': 124, 'sumpctChg+pctChgema10Close_2': 125, 'sumpctChg+pctChgema10Close_3': 126, 'sumpctChg+pctChgema10Close_4': 127, 'sumpctChg+pctChgema10Close_5': 128, 'sumpctChg+pctChgema10Close_6': 129, 'sumpctChg+pctChgema20Close_1': 130, 'sumpctChg+pctChgema20Close_2': 131, 'sumpctChg+pctChgema20Close_3': 132, 'sumpctChg+pctChgema20Close_4': 133, 'sumpctChg+pctChgema20Close_5': 134, 'sumpctChg+pctChgema20Close_6': 135, 'sumpctChg+pctChgema30Close_1': 136, 'sumpctChg+pctChgema30Close_2': 137, 'sumpctChg+pctChgema30Close_3': 138, 'sumpctChg+pctChgema30Close_4': 139, 'sumpctChg+pctChgema30Close_5': 140, 'sumpctChg+pctChgema30Close_6': 141, 'sumpctChg+pctChgema50Close_1': 142, 'sumpctChg+pctChgema50Close_2': 143, 'sumpctChg+pctChgema50Close_3': 144, 'sumpctChg+pctChgema50Close_4': 145, 'sumpctChg+pctChgema50Close_5': 146, 'sumpctChg+pctChgema50Close_6': 147, 'sumpctChg+pctChgema5Close_1': 148, 'sumpctChg+pctChgema5Close_2': 149, 'sumpctChg+pctChgema5Close_3': 150, 'sumpctChg+pctChgema5Close_4': 151, 'sumpctChg+pctChgema5Close_5': 152, 'sumpctChg+pctChgema5Close_6': 153, 'sumpctChg+pctChgsma100Close_1': 154, 'sumpctChg+pctChgsma100Close_2': 155, 'sumpctChg+pctChgsma100Close_3': 156, 'sumpctChg+pctChgsma100Close_4': 157, 'sumpctChg+pctChgsma100Close_5': 158, 'sumpctChg+pctChgsma100Close_6': 159, 'sumpctChg+pctChgsma10Close_1': 160, 'sumpctChg+pctChgsma10Close_2': 161, 'sumpctChg+pctChgsma10Close_3': 162, 'sumpctChg+pctChgsma10Close_4': 163, 'sumpctChg+pctChgsma10Close_5': 164, 'sumpctChg+pctChgsma10Close_6': 165, 'sumpctChg+pctChgsma20Close_1': 166, 'sumpctChg+pctChgsma20Close_2': 167, 'sumpctChg+pctChgsma20Close_3': 168, 'sumpctChg+pctChgsma20Close_4': 169, 'sumpctChg+pctChgsma20Close_5': 170, 'sumpctChg+pctChgsma20Close_6': 171, 'sumpctChg+pctChgsma30Close_1': 172, 'sumpctChg+pctChgsma30Close_2': 173, 'sumpctChg+pctChgsma30Close_3': 174, 'sumpctChg+pctChgsma30Close_4': 175, 'sumpctChg+pctChgsma30Close_5': 176, 'sumpctChg+pctChgsma30Close_6': 177, 'sumpctChg+pctChgsma50Close_1': 178, 'sumpctChg+pctChgsma50Close_2': 179, 'sumpctChg+pctChgsma50Close_3': 180, 'sumpctChg+pctChgsma50Close_4': 181, 'sumpctChg+pctChgsma50Close_5': 182, 'sumpctChg+pctChgsma50Close_6': 183, 'sumpctChg+pctChgsma5Close_1': 184, 'sumpctChg+pctChgsma5Close_2': 185, 'sumpctChg+pctChgsma5Close_3': 186, 'sumpctChg+pctChgsma5Close_4': 187, 'sumpctChg+pctChgsma5Close_5': 188, 'sumpctChg+pctChgsma5Close_6': 189, 'sumpctChg+sma100Close_1': 190, 'sumpctChg+sma100Close_2': 191, 'sumpctChg+sma100Close_3': 192, 'sumpctChg+sma100Close_4': 193, 'sumpctChg+sma100Close_5': 194, 'sumpctChg+sma100Close_6': 195, 'sumpctChg+sma10Close_1': 196, 'sumpctChg+sma10Close_2': 197, 'sumpctChg+sma10Close_3': 198, 'sumpctChg+sma10Close_4': 199, 'sumpctChg+sma10Close_5': 200, 'sumpctChg+sma10Close_6': 201, 'sumpctChg+sma20Close_1': 202, 'sumpctChg+sma20Close_2': 203, 'sumpctChg+sma20Close_3': 204, 'sumpctChg+sma20Close_4': 205, 'sumpctChg+sma20Close_5': 206, 'sumpctChg+sma20Close_6': 207, 'sumpctChg+sma30Close_1': 208, 'sumpctChg+sma30Close_2': 209, 'sumpctChg+sma30Close_3': 210, 'sumpctChg+sma30Close_4': 211, 'sumpctChg+sma30Close_5': 212, 'sumpctChg+sma30Close_6': 213, 'sumpctChg+sma50Close_1': 214, 'sumpctChg+sma50Close_2': 215, 'sumpctChg+sma50Close_3': 216, 'sumpctChg+sma50Close_4': 217, 'sumpctChg+sma50Close_5': 218, 'sumpctChg+sma50Close_6': 219, 'sumpctChg+sma5Close_1': 220, 'sumpctChg+sma5Close_2': 221, 'sumpctChg+sma5Close_3': 222, 'sumpctChg+sma5Close_4': 223, 'sumpctChg+sma5Close_5': 224, 'sumpctChg+sma5Close_6': 225, 'sumpctChgClHi_1': 226, 'sumpctChgClHi_2': 227, 'sumpctChgClHi_3': 228, 'sumpctChgClHi_4': 229, 'sumpctChgClHi_5': 230, 'sumpctChgClHi_6': 231, 'sumpctChgClLo_1': 232, 'sumpctChgClLo_2': 233, 'sumpctChgClLo_3': 234, 'sumpctChgClLo_4': 235, 'sumpctChgClLo_5': 236, 'sumpctChgClLo_6': 237, 'sumpctChgClOp_1': 238, 'sumpctChgClOp_2': 239, 'sumpctChgClOp_3': 240, 'sumpctChgClOp_4': 241, 'sumpctChgClOp_5': 242, 'sumpctChgClOp_6': 243, 'sumpctChgVix_1': 244, 'sumpctChgVix_2': 245, 'sumpctChgVix_3': 246, 'sumpctChgVix_4': 247, 'sumpctChgVix_5': 248, 'sumpctChgVix_6': 249, 'sumpctChgbb_high_1': 250, 'sumpctChgbb_high_2': 251, 'sumpctChgbb_high_3': 252, 'sumpctChgbb_high_4': 253, 'sumpctChgbb_high_5': 254, 'sumpctChgbb_high_6': 255, 'sumpctChgbb_low_1': 256, 'sumpctChgbb_low_2': 257, 'sumpctChgbb_low_3': 258, 'sumpctChgbb_low_4': 259, 'sumpctChgbb_low_5': 260, 'sumpctChgbb_low_6': 261, 'sumpctChgbb_ma_1': 262, 'sumpctChgbb_ma_2': 263, 'sumpctChgbb_ma_3': 264, 'sumpctChgbb_ma_4': 265, 'sumpctChgbb_ma_5': 266, 'sumpctChgbb_ma_6': 267, 'sumpctChgclose_1': 268, 'sumpctChgclose_10': 269, 'sumpctChgclose_11': 270, 'sumpctChgclose_12': 271, 'sumpctChgclose_13': 272, 'sumpctChgclose_14': 273, 'sumpctChgclose_15': 274, 'sumpctChgclose_2': 275, 'sumpctChgclose_3': 276, 'sumpctChgclose_4': 277, 'sumpctChgclose_5': 278, 'sumpctChgclose_6': 279, 'sumpctChgclose_7': 280, 'sumpctChgclose_8': 281, 'sumpctChgclose_9': 282, 'sumpctChgema100_1': 283, 'sumpctChgema100_2': 284, 'sumpctChgema100_3': 285, 'sumpctChgema100_4': 286, 'sumpctChgema100_5': 287, 'sumpctChgema100_6': 288, 'sumpctChgema10_1': 289, 'sumpctChgema10_2': 290, 'sumpctChgema10_3': 291, 'sumpctChgema10_4': 292, 'sumpctChgema10_5': 293, 'sumpctChgema10_6': 294, 'sumpctChgema20_1': 295, 'sumpctChgema20_2': 296, 'sumpctChgema20_3': 297, 'sumpctChgema20_4': 298, 'sumpctChgema20_5': 299, 'sumpctChgema20_6': 300, 'sumpctChgema30_1': 301, 'sumpctChgema30_2': 302, 'sumpctChgema30_3': 303, 'sumpctChgema30_4': 304, 'sumpctChgema30_5': 305, 'sumpctChgema30_6': 306, 'sumpctChgema50_1': 307, 'sumpctChgema50_2': 308, 'sumpctChgema50_3': 309, 'sumpctChgema50_4': 310, 'sumpctChgema50_5': 311, 'sumpctChgema50_6': 312, 'sumpctChgema5_1': 313, 'sumpctChgema5_2': 314, 'sumpctChgema5_3': 315, 'sumpctChgema5_4': 316, 'sumpctChgema5_5': 317, 'sumpctChgema5_6': 318, 'sumpctChghigh_1': 319, 'sumpctChghigh_2': 320, 'sumpctChghigh_3': 321, 'sumpctChghigh_4': 322, 'sumpctChghigh_5': 323, 'sumpctChghigh_6': 324, 'sumpctChglow_1': 325, 'sumpctChglow_2': 326, 'sumpctChglow_3': 327, 'sumpctChglow_4': 328, 'sumpctChglow_5': 329, 'sumpctChglow_6': 330, 'sumpctChgopen_1': 331, 'sumpctChgopen_2': 332, 'sumpctChgopen_3': 333, 'sumpctChgopen_4': 334, 'sumpctChgopen_5': 335, 'sumpctChgopen_6': 336, 'sumpctChgsma100_1': 337, 'sumpctChgsma100_2': 338, 'sumpctChgsma100_3': 339, 'sumpctChgsma100_4': 340, 'sumpctChgsma100_5': 341, 'sumpctChgsma100_6': 342, 'sumpctChgsma10_1': 343, 'sumpctChgsma10_2': 344, 'sumpctChgsma10_3': 345, 'sumpctChgsma10_4': 346, 'sumpctChgsma10_5': 347, 'sumpctChgsma10_6': 348, 'sumpctChgsma20_1': 349, 'sumpctChgsma20_2': 350, 'sumpctChgsma20_3': 351, 'sumpctChgsma20_4': 352, 'sumpctChgsma20_5': 353, 'sumpctChgsma20_6': 354, 'sumpctChgsma30_1': 355, 'sumpctChgsma30_2': 356, 'sumpctChgsma30_3': 357, 'sumpctChgsma30_4': 358, 'sumpctChgsma30_5': 359, 'sumpctChgsma30_6': 360, 'sumpctChgsma50_1': 361, 'sumpctChgsma50_2': 362, 'sumpctChgsma50_3': 363, 'sumpctChgsma50_4': 364, 'sumpctChgsma50_5': 365, 'sumpctChgsma50_6': 366, 'sumpctChgsma5_1': 367, 'sumpctChgsma5_2': 368, 'sumpctChgsma5_3': 369, 'sumpctChgsma5_4': 370, 'sumpctChgsma5_5': 371, 'sumpctChgsma5_6': 372, 'sumpctChgvolume_1': 373, 'sumpctChgvolume_2': 374, 'sumpctChgvolume_3': 375, 'sumpctChgvolume_4': 376, 'sumpctChgvolume_5': 377, 'sumpctChgvolume_6': 378, 'volume': 379, 'pctChgopen_cumulative': 380, 'pctChghigh_cumulative': 381, 'pctChglow_cumulative': 382, 'pctChgclose_cumulative': 383, 'pctChgvolume_cumulative': 384, 'pctChgVix_cumulative': 385, 'pctChgsma5_cumulative': 386, 'pctChgema5_cumulative': 387, 'pctChgsma10_cumulative': 388, 'pctChgema10_cumulative': 389, 'pctChgsma20_cumulative': 390, 'pctChgema20_cumulative': 391, 'pctChgsma30_cumulative': 392, 'pctChgema30_cumulative': 393, 'pctChgsma50_cumulative': 394, 'pctChgema50_cumulative': 395, 'pctChgsma100_cumulative': 396, 'pctChgema100_cumulative': 397, 'pctChgbb_high_cumulative': 398, 'pctChgbb_low_cumulative': 399, 'pctChgbb_ma_cumulative': 400, 'pctChg+sma5Close_cumulative': 401, 'pctChg+ema5Close_cumulative': 402, 'pctChg+sma10Close_cumulative': 403, 'pctChg+ema10Close_cumulative': 404, 'pctChg+sma20Close_cumulative': 405, 'pctChg+ema20Close_cumulative': 406, 'pctChg+sma30Close_cumulative': 407, 'pctChg+ema30Close_cumulative': 408, 'pctChg+sma50Close_cumulative': 409, 'pctChg+ema50Close_cumulative': 410, 'pctChg+sma100Close_cumulative': 411, 'pctChg+ema100Close_cumulative': 412, 'pctChg+bb_maClose_cumulative': 413, 'pctChg+pctChgsma5Close_cumulative': 414, 'pctChg+pctChgema5Close_cumulative': 415, 'pctChg+pctChgsma10Close_cumulative': 416, 'pctChg+pctChgema10Close_cumulative': 417, 'pctChg+pctChgsma20Close_cumulative': 418, 'pctChg+pctChgema20Close_cumulative': 419, 'pctChg+pctChgsma30Close_cumulative': 420, 'pctChg+pctChgema30Close_cumulative': 421, 'pctChg+pctChgsma50Close_cumulative': 422, 'pctChg+pctChgema50Close_cumulative': 423, 'pctChg+pctChgsma100Close_cumulative': 424, 'pctChg+pctChgema100Close_cumulative': 425, 'pctChg+pctChgbb_maClose_cumulative': 426, 'pctChgClOp_cumulative': 427, 'pctChgClLo_cumulative': 428, 'pctChgClHi_cumulative': 429}\n"
     ]
    }
   ],
   "source": [
    "print(X_feature_dict)"
   ]
  },
  {
   "cell_type": "code",
   "execution_count": null,
   "metadata": {},
   "outputs": [],
   "source": [
    "next_clusters = test_utils.cluster_a_group(cur_group,training_dict['0'],2)\n",
    "next_label = 0\n",
    "training_dict['1'] = next_clusters[next_label][1]"
   ]
  },
  {
   "cell_type": "code",
   "execution_count": null,
   "metadata": {},
   "outputs": [],
   "source": [
    "for i in range(len(next_clusters)): \n",
    "    print(next_clusters[i][0].shape)\n",
    "    plot = test_utils.visualize_cluster_centroid(next_clusters[i][0],cluster_features)\n",
    "    plot.show()"
   ]
  },
  {
   "cell_type": "code",
   "execution_count": null,
   "metadata": {},
   "outputs": [],
   "source": [
    "next_clusters = test_utils.cluster_a_group(cur_group,training_dict['1'],2)\n",
    "for i in range(len(next_clusters)): \n",
    "    print(next_clusters[i][0].shape)\n",
    "    plot = test_utils.visualize_cluster_centroid(next_clusters[i][0],cluster_features)\n",
    "    plot.show()\n",
    "next_label = 0\n",
    "training_dict['2'] = next_clusters[next_label][1]"
   ]
  },
  {
   "cell_type": "code",
   "execution_count": null,
   "metadata": {},
   "outputs": [],
   "source": [
    "next_clusters = test_utils.cluster_a_group(cur_group,training_dict['2'],6)\n",
    "for i in range(len(next_clusters)): \n",
    "    print(next_clusters[i][0].shape)\n",
    "    plot = test_utils.visualize_cluster_centroid(next_clusters[i][0],cluster_features)\n",
    "    plot.show()\n",
    "next_label = 0\n",
    "training_dict['3'] = (next_clusters[next_label][1])"
   ]
  },
  {
   "cell_type": "code",
   "execution_count": null,
   "metadata": {},
   "outputs": [],
   "source": [
    "\n",
    "print(training_dict['3'][0].shape)\n",
    "print(training_dict['3'][1].shape)\n",
    "print(training_dict['3'][2].shape)\n",
    "print(training_dict['3'][3].shape)"
   ]
  },
  {
   "cell_type": "code",
   "execution_count": null,
   "metadata": {},
   "outputs": [],
   "source": [
    "import random\n",
    "target_features = ['pctChgclose-14', 'pctChgclose-13', 'pctChgclose-12', 'pctChgclose-11', 'pctChgclose-10', 'pctChgclose-9', 'pctChgclose-8', 'pctChgclose-7', 'pctChgclose-6', 'pctChgclose-5', 'pctChgclose-4', 'pctChgclose-3', 'pctChgclose-2', 'pctChgclose-1', 'pctChgclose-0', 'pctChgclose+1', 'pctChgclose+2', 'pctChgclose+3', 'pctChgclose+4', 'pctChgclose+5', 'pctChgclose+6']\n",
    "training_features = random.sample(features, 30)\n",
    "print(training_features)"
   ]
  },
  {
   "cell_type": "code",
   "execution_count": null,
   "metadata": {},
   "outputs": [],
   "source": [
    "reload(test_utils)"
   ]
  },
  {
   "cell_type": "code",
   "execution_count": 20,
   "metadata": {},
   "outputs": [
    {
     "name": "stdout",
     "output_type": "stream",
     "text": [
      "(480, 30, 880)\n",
      "(480, 37)\n",
      "(130, 30, 880)\n",
      "(130, 37)\n",
      "{'pctChgclose+1': 0, 'pctChgclose+2': 1, 'pctChgclose+3': 2, 'pctChgclose+4': 3, 'pctChgclose+5': 4, 'pctChgclose+6': 5, 'pctChgclose-0': 6, 'pctChgclose-1': 7, 'pctChgclose-10': 8, 'pctChgclose-11': 9, 'pctChgclose-12': 10, 'pctChgclose-13': 11, 'pctChgclose-14': 12, 'pctChgclose-15': 13, 'pctChgclose-2': 14, 'pctChgclose-3': 15, 'pctChgclose-4': 16, 'pctChgclose-5': 17, 'pctChgclose-6': 18, 'pctChgclose-7': 19, 'pctChgclose-8': 20, 'pctChgclose-9': 21, 'sumPctChgclose+1': 22, 'sumPctChgclose+10': 23, 'sumPctChgclose+11': 24, 'sumPctChgclose+12': 25, 'sumPctChgclose+13': 26, 'sumPctChgclose+14': 27, 'sumPctChgclose+15': 28, 'sumPctChgclose+2': 29, 'sumPctChgclose+3': 30, 'sumPctChgclose+4': 31, 'sumPctChgclose+5': 32, 'sumPctChgclose+6': 33, 'sumPctChgclose+7': 34, 'sumPctChgclose+8': 35, 'sumPctChgclose+9': 36}\n",
      "[12, 11, 10, 9, 8, 21, 20, 19, 18, 17, 16, 15, 14, 7, 6, 0, 1, 2, 3, 4, 5]\n",
      "[12, 11, 10, 9, 8, 21, 20, 19, 18, 17, 16, 15, 14, 7, 6, 0, 1, 2, 3, 4, 5]\n",
      "(480, 30, 30)\n",
      "(480, 21)\n",
      "(130, 30, 30)\n",
      "(130, 21)\n"
     ]
    }
   ],
   "source": [
    "X_train,y_train,X_test, y_test = training_dict['3']\n",
    "print(X_train.shape)\n",
    "print(y_train.shape)\n",
    "print(X_test.shape)\n",
    "print(y_test.shape)\n",
    "print(y_feature_dict)\n",
    "X_train_filtered = test_utils.filter_by_features(X_train, training_features, X_feature_dict)\n",
    "X_test_filtered = test_utils.filter_by_features(X_test, training_features, X_feature_dict)\n",
    "y_train_filtered = test_utils.filter_y_by_features(y_train, target_features, y_feature_dict)\n",
    "y_test_filtered = test_utils.filter_y_by_features(y_test, target_features, y_feature_dict)\n",
    "print(X_train_filtered.shape)\n",
    "print(y_train_filtered.shape)\n",
    "print(X_test_filtered.shape)\n",
    "print(y_test_filtered.shape)"
   ]
  },
  {
   "cell_type": "code",
   "execution_count": null,
   "metadata": {},
   "outputs": [],
   "source": [
    "attention_model = test_utils.create_attention_model(input_steps=X_train.shape[1],output_steps=len(target_features),features=len(training_features))\n"
   ]
  },
  {
   "cell_type": "code",
   "execution_count": null,
   "metadata": {},
   "outputs": [],
   "source": [
    "trainined_attention_model = test_utils.train_model(attention_model, (X_train, y_train, X_test, y_test), training_features, \n",
    "                                                   target_features, X_feature_dict, y_feature_dict,\n",
    "                                                   epochs = 100, batch_size = 32, lr = 0.001, early_stopping_patience = 10,\n",
    "                                                   loss = 'mae')"
   ]
  },
  {
   "cell_type": "code",
   "execution_count": null,
   "metadata": {},
   "outputs": [],
   "source": [
    "attention_model_accuracy, attention_results = test_utils.eval_model()"
   ]
  },
  {
   "cell_type": "code",
   "execution_count": null,
   "metadata": {},
   "outputs": [],
   "source": []
  }
 ],
 "metadata": {
  "kernelspec": {
   "display_name": ".venv",
   "language": "python",
   "name": "python3"
  },
  "language_info": {
   "codemirror_mode": {
    "name": "ipython",
    "version": 3
   },
   "file_extension": ".py",
   "mimetype": "text/x-python",
   "name": "python",
   "nbconvert_exporter": "python",
   "pygments_lexer": "ipython3",
   "version": "3.10.9"
  }
 },
 "nbformat": 4,
 "nbformat_minor": 2
}
