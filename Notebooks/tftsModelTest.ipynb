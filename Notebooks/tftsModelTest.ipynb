{
 "cells": [
  {
   "cell_type": "code",
   "execution_count": null,
   "metadata": {},
   "outputs": [],
   "source": [
    "import os\n",
    "os.environ['DJANGO_SETTINGS_MODULE'] = 'ClusterCast.settings'\n",
    "import test_utils\n",
    "import test_utils_models\n",
    "import django\n",
    "django.setup()\n",
    "import sys\n",
    "sys.path.append(\"/home/ajp031/StockDeepLearning/ClusterCast/ClusterCast\")\n",
    "from asgiref.sync import sync_to_async\n",
    "from importlib import reload\n",
    "import ClusterPipeline.models.ClusterProcessing as cp\n",
    "import ClusterPipeline.models.SequencePreprocessing as sp\n",
    "from copy import deepcopy\n",
    "import numpy as np\n",
    "from tensorflow.keras.backend import clear_session\n",
    "from tslearn.metrics import dtw\n",
    "import tfts\n",
    "from tfts import AutoModel, KerasTrainer\n",
    "import tensorflow as tf\n",
    "import random"
   ]
  },
  {
   "cell_type": "code",
   "execution_count": null,
   "metadata": {},
   "outputs": [],
   "source": [
    "reload(test_utils)"
   ]
  },
  {
   "cell_type": "markdown",
   "metadata": {},
   "source": []
  },
  {
   "cell_type": "code",
   "execution_count": null,
   "metadata": {},
   "outputs": [],
   "source": []
  },
  {
   "cell_type": "code",
   "execution_count": null,
   "metadata": {},
   "outputs": [],
   "source": [
    "group_ids = [4]\n",
    "groups = await test_utils.extract_cluster_groups(group_ids)"
   ]
  },
  {
   "cell_type": "code",
   "execution_count": null,
   "metadata": {},
   "outputs": [],
   "source": [
    "clusters = await test_utils.get_all_clusters(groups)\n",
    "\n",
    "cur_group = groups[0]"
   ]
  },
  {
   "cell_type": "code",
   "execution_count": null,
   "metadata": {},
   "outputs": [],
   "source": [
    "cluster_of_interest_id = 17\n",
    "cluster_of_interest = [cluster for cluster in clusters if cluster.id == cluster_of_interest_id][0]"
   ]
  },
  {
   "cell_type": "code",
   "execution_count": null,
   "metadata": {},
   "outputs": [],
   "source": [
    "features = groups[0].group_params.training_features\n",
    "\n",
    "features"
   ]
  },
  {
   "cell_type": "code",
   "execution_count": null,
   "metadata": {},
   "outputs": [],
   "source": [
    "X_train, y_train, X_test, y_test = cluster_of_interest.get_3d_array()\n"
   ]
  },
  {
   "cell_type": "code",
   "execution_count": null,
   "metadata": {},
   "outputs": [],
   "source": [
    "print(X_test[0, :,0])\n",
    "print(cluster_of_interest.test_seq_elements[0].seq_x[:,0])\n",
    "print(cluster_of_interest.test_seq_elements[0].start_date)"
   ]
  },
  {
   "cell_type": "code",
   "execution_count": null,
   "metadata": {},
   "outputs": [],
   "source": []
  },
  {
   "cell_type": "code",
   "execution_count": null,
   "metadata": {},
   "outputs": [],
   "source": [
    "print(X_test[0, :,50])\n",
    "print(cluster_of_interest.test_seq_elements[-1].seq_x[:,50])\n",
    "print(cluster_of_interest.test_seq_elements[-1].start_date)"
   ]
  },
  {
   "cell_type": "code",
   "execution_count": null,
   "metadata": {},
   "outputs": [],
   "source": [
    "print(features)"
   ]
  },
  {
   "cell_type": "code",
   "execution_count": null,
   "metadata": {},
   "outputs": [],
   "source": [
    "target_features = [] \n",
    "# target_features += ['pctChgclose{}_target'.format(i) for i in range(-14, 0) ]\n",
    "# target_features += ['pctChgclose-0_target']\n",
    "target_features += ['pctChgclose+{}_target'.format(i) for i in range(1, 26) ]\n",
    "\n",
    "training_features = []\n",
    "training_features = random.sample(features, 125)\n",
    "# training_features += ['pctChgvolume', 'pctChgclose','pctDiff+ema50_close','pctDiff+ema10_close','deriv+ema10' ]\n",
    "# training_features += ['pctChgvolume', 'pctChgclose']\n",
    "# training_features = ['pctChgclose', 'pctChgvolume','pctDiff+ema50_close','pctDiff+ema10_close','deriv+ema10', 'pctChgVix','pctDiff+bb_high_close10','pctDiff+bb_low_close10', 'bb_indicator40','pctChgClOp','pctDiff+bb_high_low10','stoch_k','pctDiff+ema10_close' ]\n",
    "# training_features = \"pctDiff+bb_low_close20, pctDiff+bb_high_close10, pctDiff+bb_high_low60, stoch_k, pctChgclose, deriv+sma10, hiLo, rsi10, pctDiff+sma5_sma50, pctDiff+sma10_sma20, deriv+ema20, pctDiff+ema20_ema100, pctDiff+ema30_ema50, deriv+ema30, deriv+sma200, pctDiff+sma50_sma100, pctDiff+sma20_close, opLo, pctChgvolume, pctDiff+bb_low_close60\"\n",
    "# training_features = \"rsi100, pctDiff+bb_high_low60, pctDiff+ema5_ema200, rsi20, deriv+sma5, pctDiff+ema20_ema100, bb_indicator20, pctDiff+bb_high_low20, bb_indicator60, pctDiff+ema30_ema200, pctChglow, rsi50, stoch_d, pctDiff+sma200_close, hiLo, pctDiff+bb_high_low40, pctDiff+bb_low_close60, pctDiff+sma30_sma200, pctDiff+sma10_close, bb_indicator10\"\n",
    "# training_features = [item.strip() for item in training_features.split(\",\")]\n",
    "print(training_features)\n",
    "y_feature_sets = cur_group.group_params.y_feature_sets\n",
    "# training_features += ['pctChgclose']\n"
   ]
  },
  {
   "cell_type": "code",
   "execution_count": null,
   "metadata": {},
   "outputs": [],
   "source": []
  },
  {
   "cell_type": "code",
   "execution_count": null,
   "metadata": {},
   "outputs": [],
   "source": [
    "# for feature_set in y_feature_sets:\n",
    "#     print(feature_set)\n",
    "#     print(type(feature_set))\n",
    "y_feature_sets = y_feature_sets[:-1]"
   ]
  },
  {
   "cell_type": "code",
   "execution_count": null,
   "metadata": {},
   "outputs": [],
   "source": []
  },
  {
   "cell_type": "code",
   "execution_count": null,
   "metadata": {},
   "outputs": [],
   "source": [
    "reload(test_utils)\n",
    "reload(test_utils_models)"
   ]
  },
  {
   "cell_type": "code",
   "execution_count": null,
   "metadata": {},
   "outputs": [],
   "source": []
  },
  {
   "cell_type": "code",
   "execution_count": null,
   "metadata": {},
   "outputs": [],
   "source": [
    "print(target_features)\n",
    "print(len(target_features))"
   ]
  },
  {
   "cell_type": "code",
   "execution_count": null,
   "metadata": {},
   "outputs": [],
   "source": [
    "y_feature_dict = cur_group.y_feature_dict\n",
    "X_feature_dict = cur_group.X_feature_dict\n",
    "\n",
    "print(X_train.shape)\n",
    "print(y_train.shape)\n",
    "print(X_test.shape)\n",
    "print(y_test.shape)\n",
    "print(y_feature_dict)"
   ]
  },
  {
   "cell_type": "code",
   "execution_count": null,
   "metadata": {},
   "outputs": [],
   "source": [
    "\n",
    "X_train_filtered = test_utils.filter_by_features(X_train, training_features, X_feature_dict)\n",
    "X_test_filtered = test_utils.filter_by_features(X_test, training_features, X_feature_dict)\n",
    "y_train_filtered = test_utils.filter_y_by_features(y_train, target_features, y_feature_dict)\n",
    "y_test_filtered = test_utils.filter_y_by_features(y_test, target_features, y_feature_dict)\n",
    "print(X_train_filtered.shape)\n",
    "print(y_train_filtered.shape)\n",
    "print(X_test_filtered.shape)\n",
    "print(y_test_filtered.shape)"
   ]
  },
  {
   "cell_type": "code",
   "execution_count": null,
   "metadata": {},
   "outputs": [],
   "source": [
    "print(X_train_filtered[25, 0,:])"
   ]
  },
  {
   "cell_type": "code",
   "execution_count": null,
   "metadata": {},
   "outputs": [],
   "source": [
    "print(y_train_filtered[25, :])"
   ]
  },
  {
   "cell_type": "code",
   "execution_count": null,
   "metadata": {},
   "outputs": [],
   "source": [
    "model = test_utils_models.CustomSeq2SeqModel(len(target_features), X_train_filtered.shape[1], X_train_filtered.shape[2])"
   ]
  },
  {
   "cell_type": "code",
   "execution_count": null,
   "metadata": {},
   "outputs": [],
   "source": [
    "training_model = test_utils.train_model(model, (X_train, y_train, X_test, y_test), training_features, \n",
    "                                                   target_features, X_feature_dict, y_feature_dict,\n",
    "                                                   epochs = 100, batch_size = 15, lr = 0.0001, early_stopping_patience = 15,\n",
    "                                                   loss = 'mse')"
   ]
  },
  {
   "cell_type": "code",
   "execution_count": null,
   "metadata": {},
   "outputs": [],
   "source": [
    "num_days = len(target_features)\n",
    "attention_model_accuracy, attention_results, predicted_y, attention_weights = test_utils.eval_model(X_test_filtered, y_test_filtered, model,num_days,test_model= True)"
   ]
  },
  {
   "cell_type": "code",
   "execution_count": null,
   "metadata": {},
   "outputs": [],
   "source": [
    "attention_weights.shape"
   ]
  },
  {
   "cell_type": "code",
   "execution_count": null,
   "metadata": {},
   "outputs": [],
   "source": [
    "predicted_y_transformed = np.zeros_like(predicted_y)\n",
    "for i, feature in enumerate(target_features):\n",
    "    scaler = [feature_set for feature_set in y_feature_sets if feature == feature_set.name][0].scaler\n",
    "    predicted_y_transformed[:, i] = scaler.inverse_transform(predicted_y[:, i].reshape(-1, 1)).reshape(-1)"
   ]
  },
  {
   "cell_type": "code",
   "execution_count": 1,
   "metadata": {},
   "outputs": [
    {
     "ename": "NameError",
     "evalue": "name 'reload' is not defined",
     "output_type": "error",
     "traceback": [
      "\u001b[0;31m---------------------------------------------------------------------------\u001b[0m",
      "\u001b[0;31mNameError\u001b[0m                                 Traceback (most recent call last)",
      "Cell \u001b[0;32mIn[1], line 1\u001b[0m\n\u001b[0;32m----> 1\u001b[0m \u001b[43mreload\u001b[49m(test_utils)\n\u001b[1;32m      2\u001b[0m reload(sp)\n\u001b[1;32m      3\u001b[0m reload(test_utils_models)\n",
      "\u001b[0;31mNameError\u001b[0m: name 'reload' is not defined"
     ]
    }
   ],
   "source": [
    "reload(test_utils)\n",
    "reload(sp)\n",
    "reload(test_utils_models)"
   ]
  },
  {
   "cell_type": "code",
   "execution_count": null,
   "metadata": {},
   "outputs": [],
   "source": [
    "print(attention_model_accuracy)\n",
    "\n",
    "test_utils.visualize_future_distribution(attention_results)"
   ]
  },
  {
   "cell_type": "code",
   "execution_count": null,
   "metadata": {},
   "outputs": [],
   "source": [
    "\n",
    "\n",
    "for i in range(20,40):\n",
    "    attention_weight = attention_weights[i]\n",
    "    sequence_element = cluster_of_interest.test_seq_elements[i]\n",
    "    prediction = predicted_y_transformed[i]\n",
    "    print(sequence_element.y_feature_sets)\n",
    "    plot = test_utils.plot_attention_weights_single(attention_weight)\n",
    "    # plot.show()\n",
    "    sp.SequenceElement.visualize_future_movement_mpl(sequence_element, prediction, scaler, isCuma = False, target_features=target_features, num_days=num_days)"
   ]
  },
  {
   "cell_type": "code",
   "execution_count": null,
   "metadata": {},
   "outputs": [],
   "source": []
  },
  {
   "cell_type": "code",
   "execution_count": null,
   "metadata": {},
   "outputs": [],
   "source": []
  },
  {
   "cell_type": "code",
   "execution_count": null,
   "metadata": {},
   "outputs": [],
   "source": []
  }
 ],
 "metadata": {
  "kernelspec": {
   "display_name": ".venv",
   "language": "python",
   "name": "python3"
  },
  "language_info": {
   "codemirror_mode": {
    "name": "ipython",
    "version": 3
   },
   "file_extension": ".py",
   "mimetype": "text/x-python",
   "name": "python",
   "nbconvert_exporter": "python",
   "pygments_lexer": "ipython3",
   "version": "3.10.9"
  }
 },
 "nbformat": 4,
 "nbformat_minor": 2
}
