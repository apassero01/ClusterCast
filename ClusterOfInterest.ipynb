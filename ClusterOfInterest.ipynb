{
 "cells": [
  {
   "cell_type": "code",
   "execution_count": null,
   "metadata": {},
   "outputs": [],
   "source": [
    "import os\n",
    "os.environ['DJANGO_SETTINGS_MODULE'] = 'ClusterCast.settings'\n",
    "import test_utils\n",
    "import django\n",
    "django.setup()\n",
    "import sys\n",
    "sys.path.append(\"/home/ajp031/StockDeepLearning/ClusterCast/ClusterCast\")\n",
    "from asgiref.sync import sync_to_async\n",
    "from importlib import reload\n",
    "import ClusterPipeline.models.ClusterProcessing as cp\n",
    "import ClusterPipeline.models.SequencePreprocessing as sp\n",
    "from copy import deepcopy\n",
    "import numpy as np\n",
    "from tensorflow.keras.backend import clear_session\n",
    "import random"
   ]
  },
  {
   "cell_type": "code",
   "execution_count": null,
   "metadata": {},
   "outputs": [],
   "source": [
    "reload(test_utils)"
   ]
  },
  {
   "cell_type": "code",
   "execution_count": null,
   "metadata": {},
   "outputs": [],
   "source": []
  },
  {
   "cell_type": "code",
   "execution_count": null,
   "metadata": {},
   "outputs": [],
   "source": [
    "group_ids = [38]\n",
    "groups = await test_utils.extract_cluster_groups(group_ids)"
   ]
  },
  {
   "cell_type": "code",
   "execution_count": null,
   "metadata": {},
   "outputs": [],
   "source": [
    "clusters = await test_utils.get_all_clusters(groups)\n",
    "\n",
    "cur_group = groups[0]"
   ]
  },
  {
   "cell_type": "code",
   "execution_count": null,
   "metadata": {},
   "outputs": [],
   "source": [
    "cluster_of_interest_id = 435\n",
    "cluster_of_interest = [cluster for cluster in clusters if cluster.id == cluster_of_interest_id][0]"
   ]
  },
  {
   "cell_type": "code",
   "execution_count": null,
   "metadata": {},
   "outputs": [],
   "source": [
    "features = groups[0].group_params.training_features\n",
    "\n",
    "features"
   ]
  },
  {
   "cell_type": "code",
   "execution_count": null,
   "metadata": {},
   "outputs": [],
   "source": [
    "X_train, y_train, X_test, y_test = cluster_of_interest.get_3d_array()\n"
   ]
  },
  {
   "cell_type": "code",
   "execution_count": null,
   "metadata": {},
   "outputs": [],
   "source": [
    "target_features = [] \n",
    "target_features += ['pctChgclose{}_target'.format(i) for i in range(-14, 0) ]\n",
    "target_features += ['pctChgclose-0_target']\n",
    "target_features += ['pctChgclose+{}_target'.format(i) for i in range(1, 7) ]\n",
    "training_features = random.sample(features, 30)\n",
    "print(training_features)"
   ]
  },
  {
   "cell_type": "code",
   "execution_count": null,
   "metadata": {},
   "outputs": [],
   "source": [
    "reload(test_utils)"
   ]
  },
  {
   "cell_type": "code",
   "execution_count": null,
   "metadata": {},
   "outputs": [],
   "source": [
    "print(target_features)\n",
    "print(len(target_features))"
   ]
  },
  {
   "cell_type": "code",
   "execution_count": null,
   "metadata": {},
   "outputs": [],
   "source": [
    "y_feature_dict = cur_group.y_feature_dict\n",
    "X_feature_dict = cur_group.X_feature_dict\n",
    "\n",
    "print(X_train.shape)\n",
    "print(y_train.shape)\n",
    "print(X_test.shape)\n",
    "print(y_test.shape)\n",
    "print(y_feature_dict)"
   ]
  },
  {
   "cell_type": "code",
   "execution_count": null,
   "metadata": {},
   "outputs": [],
   "source": [
    "\n",
    "X_train_filtered = test_utils.filter_by_features(X_train, training_features, X_feature_dict)\n",
    "X_test_filtered = test_utils.filter_by_features(X_test, training_features, X_feature_dict)\n",
    "y_train_filtered = test_utils.filter_y_by_features(y_train, target_features, y_feature_dict)\n",
    "y_test_filtered = test_utils.filter_y_by_features(y_test, target_features, y_feature_dict)\n",
    "print(X_train_filtered.shape)\n",
    "print(y_train_filtered.shape)\n",
    "print(X_test_filtered.shape)\n",
    "print(y_test_filtered.shape)"
   ]
  },
  {
   "cell_type": "code",
   "execution_count": null,
   "metadata": {},
   "outputs": [],
   "source": [
    "attention_model = test_utils.create_attention_model(input_steps=X_train.shape[1],output_steps=len(target_features),features=len(training_features))\n"
   ]
  },
  {
   "cell_type": "code",
   "execution_count": null,
   "metadata": {},
   "outputs": [],
   "source": [
    "trainined_attention_model = test_utils.train_model(attention_model, (X_train, y_train, X_test, y_test), training_features, \n",
    "                                                   target_features, X_feature_dict, y_feature_dict,\n",
    "                                                   epochs = 100, batch_size = 32, lr = 0.001, early_stopping_patience = 15,\n",
    "                                                   loss = 'mse')"
   ]
  },
  {
   "cell_type": "code",
   "execution_count": null,
   "metadata": {},
   "outputs": [],
   "source": [
    "attention_model_accuracy, attention_results, predicted_y = test_utils.eval_model(X_test_filtered, y_test_filtered, trainined_attention_model)"
   ]
  },
  {
   "cell_type": "code",
   "execution_count": null,
   "metadata": {},
   "outputs": [],
   "source": [
    "reload(test_utils)"
   ]
  },
  {
   "cell_type": "code",
   "execution_count": null,
   "metadata": {},
   "outputs": [],
   "source": [
    "print(attention_model_accuracy)\n",
    "test_utils.visualize_future_distribution(attention_results)"
   ]
  },
  {
   "cell_type": "code",
   "execution_count": null,
   "metadata": {},
   "outputs": [],
   "source": [
    "sequence_element = cluster_of_interest.test_seq_elements[0]\n",
    "print(sequence_element.y_feature_sets)\n",
    "sp.SequenceElement.visualize_future_movement(sequence_element, attention_results, isCuma = False)"
   ]
  },
  {
   "cell_type": "code",
   "execution_count": null,
   "metadata": {},
   "outputs": [],
   "source": []
  },
  {
   "cell_type": "code",
   "execution_count": null,
   "metadata": {},
   "outputs": [],
   "source": []
  },
  {
   "cell_type": "code",
   "execution_count": null,
   "metadata": {},
   "outputs": [],
   "source": []
  }
 ],
 "metadata": {
  "kernelspec": {
   "display_name": ".venv",
   "language": "python",
   "name": "python3"
  },
  "language_info": {
   "codemirror_mode": {
    "name": "ipython",
    "version": 3
   },
   "file_extension": ".py",
   "mimetype": "text/x-python",
   "name": "python",
   "nbconvert_exporter": "python",
   "pygments_lexer": "ipython3",
   "version": "3.10.9"
  }
 },
 "nbformat": 4,
 "nbformat_minor": 2
}
