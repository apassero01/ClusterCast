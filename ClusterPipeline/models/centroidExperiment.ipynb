{
 "cells": [
  {
   "cell_type": "code",
   "execution_count": 1,
   "metadata": {},
   "outputs": [
    {
     "ename": "ModuleNotFoundError",
     "evalue": "No module named 'ClusterCast.ClusterPipeline'",
     "output_type": "error",
     "traceback": [
      "\u001b[0;31m---------------------------------------------------------------------------\u001b[0m",
      "\u001b[0;31mModuleNotFoundError\u001b[0m                       Traceback (most recent call last)",
      "\u001b[1;32m/home/ajp031/StockDeepLearning/ClusterCast/ClusterCast/ClusterPipeline/models/centroidExperiment.ipynb Cell 1\u001b[0m line \u001b[0;36m6\n\u001b[1;32m      <a href='vscode-notebook-cell://ssh-remote%2Blinuxremote.bucknell.edu/home/ajp031/StockDeepLearning/ClusterCast/ClusterCast/ClusterPipeline/models/centroidExperiment.ipynb#W0sdnNjb2RlLXJlbW90ZQ%3D%3D?line=2'>3</a>\u001b[0m \u001b[39mimport\u001b[39;00m \u001b[39msys\u001b[39;00m\n\u001b[1;32m      <a href='vscode-notebook-cell://ssh-remote%2Blinuxremote.bucknell.edu/home/ajp031/StockDeepLearning/ClusterCast/ClusterCast/ClusterPipeline/models/centroidExperiment.ipynb#W0sdnNjb2RlLXJlbW90ZQ%3D%3D?line=3'>4</a>\u001b[0m sys\u001b[39m.\u001b[39mpath\u001b[39m.\u001b[39mappend(\u001b[39m\"\u001b[39m\u001b[39m/home/ajp031/StockDeepLearning/ClusterCast/ClusterCast\u001b[39m\u001b[39m\"\u001b[39m)\n\u001b[0;32m----> <a href='vscode-notebook-cell://ssh-remote%2Blinuxremote.bucknell.edu/home/ajp031/StockDeepLearning/ClusterCast/ClusterCast/ClusterPipeline/models/centroidExperiment.ipynb#W0sdnNjb2RlLXJlbW90ZQ%3D%3D?line=5'>6</a>\u001b[0m \u001b[39mimport\u001b[39;00m \u001b[39mClusterProcessing\u001b[39;00m\n",
      "File \u001b[0;32m~/StockDeepLearning/ClusterCast/ClusterCast/ClusterPipeline/models/ClusterProcessing.py:2\u001b[0m\n\u001b[1;32m      1\u001b[0m \u001b[39mfrom\u001b[39;00m \u001b[39mdatetime\u001b[39;00m \u001b[39mimport\u001b[39;00m datetime\n\u001b[0;32m----> 2\u001b[0m \u001b[39mfrom\u001b[39;00m \u001b[39mClusterCast\u001b[39;00m\u001b[39m.\u001b[39;00m\u001b[39mClusterPipeline\u001b[39;00m\u001b[39m.\u001b[39;00m\u001b[39mmodels\u001b[39;00m\u001b[39m.\u001b[39;00m\u001b[39mSequencePreprocessing\u001b[39;00m \u001b[39mimport\u001b[39;00m StockSequenceSet, SequenceElement, ScalingMethod\n\u001b[1;32m      3\u001b[0m \u001b[39mfrom\u001b[39;00m \u001b[39m.\u001b[39;00m\u001b[39mTSeriesPreproccesing\u001b[39;00m \u001b[39mimport\u001b[39;00m StockDataSet\n\u001b[1;32m      4\u001b[0m \u001b[39mfrom\u001b[39;00m \u001b[39mtslearn\u001b[39;00m\u001b[39m.\u001b[39;00m\u001b[39mclustering\u001b[39;00m \u001b[39mimport\u001b[39;00m TimeSeriesKMeans\n",
      "\u001b[0;31mModuleNotFoundError\u001b[0m: No module named 'ClusterCast.ClusterPipeline'"
     ]
    }
   ],
   "source": [
    "import os\n",
    "os.environ[\"DJANGO_SETTINGS_MODULE\"] = \"ClusterCast.settings\"\n",
    "import sys\n",
    "sys.path.append(\"/home/ajp031/StockDeepLearning/ClusterCast/ClusterCast\")\n",
    "\n",
    "import ClusterProcessing"
   ]
  },
  {
   "cell_type": "code",
   "execution_count": null,
   "metadata": {},
   "outputs": [],
   "source": []
  }
 ],
 "metadata": {
  "kernelspec": {
   "display_name": "Python 3",
   "language": "python",
   "name": "python3"
  },
  "language_info": {
   "codemirror_mode": {
    "name": "ipython",
    "version": 3
   },
   "file_extension": ".py",
   "mimetype": "text/x-python",
   "name": "python",
   "nbconvert_exporter": "python",
   "pygments_lexer": "ipython3",
   "version": "3.10.9"
  }
 },
 "nbformat": 4,
 "nbformat_minor": 2
}
